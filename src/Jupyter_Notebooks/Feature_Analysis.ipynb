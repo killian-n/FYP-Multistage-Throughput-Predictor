{
 "cells": [
  {
   "cell_type": "markdown",
   "id": "e01f971c-7d0c-445f-b22f-928f53d74d5d",
   "metadata": {},
   "source": [
    "# Feature Analysis"
   ]
  },
  {
   "cell_type": "code",
   "execution_count": 2,
   "id": "047c8d0f-e47c-4203-b3c3-ad3729a86d2b",
   "metadata": {},
   "outputs": [],
   "source": [
    "import missingno as msno\n",
    "import pandas as pd\n",
    "import matplotlib.pyplot as plt"
   ]
  },
  {
   "cell_type": "code",
   "execution_count": 3,
   "id": "b35730d8-fbdf-4cea-bf52-18cb2c530aed",
   "metadata": {},
   "outputs": [
    {
     "name": "stderr",
     "output_type": "stream",
     "text": [
      "C:\\Users\\Killian\\AppData\\Local\\Temp\\ipykernel_34412\\3701779916.py:1: DtypeWarning: Columns (8,9,10) have mixed types. Specify dtype option on import or set low_memory=False.\n",
      "  raw_data = pd.read_csv(\"../../Datasets/Raw/all_4G_data.csv\", index_col=None)\n"
     ]
    }
   ],
   "source": [
    "raw_data = pd.read_csv(\"../../Datasets/Raw/all_4G_data.csv\", index_col=None)"
   ]
  }
 ],
 "metadata": {
  "kernelspec": {
   "display_name": "Python 3 (ipykernel)",
   "language": "python",
   "name": "python3"
  },
  "language_info": {
   "codemirror_mode": {
    "name": "ipython",
    "version": 3
   },
   "file_extension": ".py",
   "mimetype": "text/x-python",
   "name": "python",
   "nbconvert_exporter": "python",
   "pygments_lexer": "ipython3",
   "version": "3.9.15"
  }
 },
 "nbformat": 4,
 "nbformat_minor": 5
}
