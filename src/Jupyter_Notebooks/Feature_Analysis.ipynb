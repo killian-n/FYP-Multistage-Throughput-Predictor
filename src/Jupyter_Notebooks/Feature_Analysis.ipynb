{
 "cells": [
  {
   "cell_type": "markdown",
   "id": "e01f971c-7d0c-445f-b22f-928f53d74d5d",
   "metadata": {},
   "source": [
    "# Feature Analysis"
   ]
  },
  {
   "cell_type": "code",
   "execution_count": 4,
   "id": "047c8d0f-e47c-4203-b3c3-ad3729a86d2b",
   "metadata": {},
   "outputs": [],
   "source": [
    "import missingno as msno\n",
    "import pandas as pd\n",
    "import matplotlib.pyplot as plt\n",
    "import numpy as np"
   ]
  },
  {
   "cell_type": "markdown",
   "id": "2c0093f7-953d-4963-95d0-efc0acfe8d3f",
   "metadata": {},
   "source": [
    "## Read in Data"
   ]
  },
  {
   "cell_type": "code",
   "execution_count": 5,
   "id": "b35730d8-fbdf-4cea-bf52-18cb2c530aed",
   "metadata": {},
   "outputs": [
    {
     "name": "stderr",
     "output_type": "stream",
     "text": [
      "C:\\Users\\Killian\\AppData\\Local\\Temp\\ipykernel_20740\\3701779916.py:1: DtypeWarning: Columns (8,9,10) have mixed types. Specify dtype option on import or set low_memory=False.\n",
      "  raw_data = pd.read_csv(\"../../Datasets/Raw/all_4G_data.csv\", index_col=None)\n"
     ]
    }
   ],
   "source": [
    "raw_data = pd.read_csv(\"../../Datasets/Raw/all_4G_data.csv\", index_col=None)"
   ]
  },
  {
   "cell_type": "markdown",
   "id": "d94db3d0-c8aa-44cb-814b-7eedb033da40",
   "metadata": {},
   "source": [
    "## Basic Formatting"
   ]
  },
  {
   "cell_type": "code",
   "execution_count": 8,
   "id": "4715af2e-211b-4ed5-8cf8-827d69f4ec64",
   "metadata": {},
   "outputs": [],
   "source": [
    "raw_data = raw_data.replace({\"-\": np.nan})\n",
    "raw_data = raw_data.replace({\"\": np.nan})\n",
    "try:\n",
    "    raw_data[\"Timestamp\"] = pd.to_datetime(raw_data[\"Timestamp\"],\n",
    "     format=\"%Y.%m.%d_%H.%M.%S\")\n",
    "except Exception as e:\n",
    "    pass\n",
    "raw_data[[\"DL_bitrate\", \"UL_bitrate\",\"SNR\", \"CQI\", \"RSSI\", \"NRxRSRP\", \"NRxRSRQ\", \"ServingCell_Distance\", \"Speed\", \"RSRQ\", \"RSRP\"]] \\\n",
    "    = raw_data[[\"DL_bitrate\", \"UL_bitrate\",\"SNR\", \"CQI\", \"RSSI\", \"NRxRSRP\", \"NRxRSRQ\", \"ServingCell_Distance\", \"Speed\", \"RSRQ\", \"RSRP\"]].astype(float)"
   ]
  },
  {
   "cell_type": "markdown",
   "id": "de0502f8-5f28-4dca-af19-e845f4cacdee",
   "metadata": {},
   "source": [
    "## Looking at columns"
   ]
  },
  {
   "cell_type": "code",
   "execution_count": 9,
   "id": "633721bb-3896-4430-ba4e-da8d88cd93e3",
   "metadata": {},
   "outputs": [
    {
     "name": "stdout",
     "output_type": "stream",
     "text": [
      "Index(['Timestamp', 'Longitude', 'Latitude', 'Speed', 'Operatorname', 'CellID',\n",
      "       'NetworkMode', 'RSRP', 'RSRQ', 'SNR', 'CQI', 'RSSI', 'DL_bitrate',\n",
      "       'UL_bitrate', 'State', 'NRxRSRP', 'NRxRSRQ', 'ServingCell_Lon',\n",
      "       'ServingCell_Lat', 'ServingCell_Distance', 'movement_type', 'session'],\n",
      "      dtype='object')\n"
     ]
    }
   ],
   "source": [
    "print(raw_data.columns)"
   ]
  },
  {
   "cell_type": "markdown",
   "id": "c4ede356-5fa9-475b-83d4-5e7b2d274346",
   "metadata": {},
   "source": [
    "### Dataset Understanding"
   ]
  },
  {
   "cell_type": "markdown",
   "id": "5e1fe10c-87b9-4633-a057-869f5b7313ef",
   "metadata": {},
   "source": [
    "While the dataset contains many potentially valuable features it is important to note how the dataset was constructed.\n",
    "Most of the columns were collected directly from the device using the G-NetTrack App for android.\n",
    "The following columns are widely reported on in the G-NetTrack App and thus measurements are available consistently\n",
    "This includes:\n",
    " - Longitude\n",
    " - Latitude\n",
    " - Speed\n",
    " - Operatorname\n",
    " - NetworkMode\n",
    " - RSRP\n",
    " - RSRQ (VERY FEW DEVICES SUPPORT REPORTING THIS VALUE)\n",
    " - SNR\n",
    " - CQI\n",
    " - DL_bitrate\n",
    " - UL_bitrate\n",
    " - State\n",
    " - NRxRSRP\n",
    " - NRxRSRQ"
   ]
  }
 ],
 "metadata": {
  "kernelspec": {
   "display_name": "Python 3 (ipykernel)",
   "language": "python",
   "name": "python3"
  },
  "language_info": {
   "codemirror_mode": {
    "name": "ipython",
    "version": 3
   },
   "file_extension": ".py",
   "mimetype": "text/x-python",
   "name": "python",
   "nbconvert_exporter": "python",
   "pygments_lexer": "ipython3",
   "version": "3.9.15"
  }
 },
 "nbformat": 4,
 "nbformat_minor": 5
}
