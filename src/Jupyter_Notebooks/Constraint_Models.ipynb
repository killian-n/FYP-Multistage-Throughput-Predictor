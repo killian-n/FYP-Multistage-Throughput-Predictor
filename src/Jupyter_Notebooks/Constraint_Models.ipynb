{
 "cells": [
  {
   "cell_type": "code",
   "execution_count": 1,
   "metadata": {},
   "outputs": [],
   "source": [
    "import numpy as np\n",
    "import tensorflow as tf"
   ]
  },
  {
   "cell_type": "code",
   "execution_count": 16,
   "metadata": {},
   "outputs": [
    {
     "data": {
      "text/plain": [
       "1.2120495941377979e-05"
      ]
     },
     "execution_count": 16,
     "metadata": {},
     "output_type": "execute_result"
    }
   ],
   "source": [
    "# Rough Mb per parmeter\n",
    "mb_per_par = 1.4821548461914062/122285\n",
    "mb_per_par"
   ]
  },
  {
   "cell_type": "code",
   "execution_count": 8,
   "metadata": {},
   "outputs": [
    {
     "name": "stdout",
     "output_type": "stream",
     "text": [
      "Model: \"sequential_5\"\n",
      "_________________________________________________________________\n",
      " Layer (type)                Output Shape              Param #   \n",
      "=================================================================\n",
      " lstm_20 (LSTM)              (None, 10, 96)            44928     \n",
      "                                                                 \n",
      " dropout_25 (Dropout)        (None, 10, 96)            0         \n",
      "                                                                 \n",
      " lstm_21 (LSTM)              (None, 10, 48)            27840     \n",
      "                                                                 \n",
      " dropout_26 (Dropout)        (None, 10, 48)            0         \n",
      "                                                                 \n",
      " lstm_22 (LSTM)              (None, 10, 48)            18624     \n",
      "                                                                 \n",
      " dropout_27 (Dropout)        (None, 10, 48)            0         \n",
      "                                                                 \n",
      " lstm_23 (LSTM)              (None, 10, 48)            18624     \n",
      "                                                                 \n",
      " dropout_28 (Dropout)        (None, 10, 48)            0         \n",
      "                                                                 \n",
      " flatten_5 (Flatten)         (None, 480)               0         \n",
      "                                                                 \n",
      " dense_15 (Dense)            (None, 24)                11544     \n",
      "                                                                 \n",
      " dense_16 (Dense)            (None, 24)                600       \n",
      "                                                                 \n",
      " dropout_29 (Dropout)        (None, 24)                0         \n",
      "                                                                 \n",
      " dense_17 (Dense)            (None, 5)                 125       \n",
      "                                                                 \n",
      "=================================================================\n",
      "Total params: 122,285\n",
      "Trainable params: 122,285\n",
      "Non-trainable params: 0\n",
      "_________________________________________________________________\n"
     ]
    }
   ],
   "source": [
    "model = tf.keras.Sequential()\n",
    "model.add(tf.keras.layers.LSTM(96, input_shape=(10, 20), return_sequences=True))\n",
    "model.add(tf.keras.layers.Dropout(.4))\n",
    "model.add(tf.keras.layers.LSTM(48,return_sequences=True))\n",
    "model.add(tf.keras.layers.Dropout(.3))\n",
    "model.add(tf.keras.layers.LSTM(48,return_sequences=True))\n",
    "model.add(tf.keras.layers.Dropout(0.4))\n",
    "model.add(tf.keras.layers.LSTM(48,return_sequences=True))\n",
    "model.add(tf.keras.layers.Dropout(0.2))\n",
    "model.add(tf.keras.layers.Flatten())\n",
    "model.add(tf.keras.layers.Dense(24, activation=\"sigmoid\"))\n",
    "model.add(tf.keras.layers.Dense(24, activation=\"sigmoid\"))\n",
    "model.add(tf.keras.layers.Dropout(.1))\n",
    "model.add(tf.keras.layers.Dense(5))\n",
    "model.compile(optimizer=\"adam\", loss=\"mse\", metrics=[tf.keras.metrics.MeanAbsoluteError()])\n",
    "model.summary()"
   ]
  },
  {
   "cell_type": "markdown",
   "metadata": {},
   "source": [
    "# 3MB Baseline"
   ]
  },
  {
   "cell_type": "code",
   "execution_count": 27,
   "metadata": {},
   "outputs": [
    {
     "name": "stdout",
     "output_type": "stream",
     "text": [
      "Model: \"sequential_11\"\n",
      "_________________________________________________________________\n",
      " Layer (type)                Output Shape              Param #   \n",
      "=================================================================\n",
      " lstm_44 (LSTM)              (None, 10, 128)           68608     \n",
      "                                                                 \n",
      " dropout_55 (Dropout)        (None, 10, 128)           0         \n",
      "                                                                 \n",
      " lstm_45 (LSTM)              (None, 10, 96)            86400     \n",
      "                                                                 \n",
      " dropout_56 (Dropout)        (None, 10, 96)            0         \n",
      "                                                                 \n",
      " lstm_46 (LSTM)              (None, 10, 64)            41216     \n",
      "                                                                 \n",
      " dropout_57 (Dropout)        (None, 10, 64)            0         \n",
      "                                                                 \n",
      " lstm_47 (LSTM)              (None, 10, 64)            33024     \n",
      "                                                                 \n",
      " dropout_58 (Dropout)        (None, 10, 64)            0         \n",
      "                                                                 \n",
      " flatten_11 (Flatten)        (None, 640)               0         \n",
      "                                                                 \n",
      " dense_33 (Dense)            (None, 24)                15384     \n",
      "                                                                 \n",
      " dense_34 (Dense)            (None, 24)                600       \n",
      "                                                                 \n",
      " dropout_59 (Dropout)        (None, 24)                0         \n",
      "                                                                 \n",
      " dense_35 (Dense)            (None, 5)                 125       \n",
      "                                                                 \n",
      "=================================================================\n",
      "Total params: 245,357\n",
      "Trainable params: 245,357\n",
      "Non-trainable params: 0\n",
      "_________________________________________________________________\n"
     ]
    }
   ],
   "source": [
    "model = tf.keras.Sequential()\n",
    "model.add(tf.keras.layers.LSTM(128, input_shape=(10, 5), return_sequences=True))\n",
    "model.add(tf.keras.layers.Dropout(.4))\n",
    "model.add(tf.keras.layers.LSTM(96,return_sequences=True))\n",
    "model.add(tf.keras.layers.Dropout(.3))\n",
    "model.add(tf.keras.layers.LSTM(64,return_sequences=True))\n",
    "model.add(tf.keras.layers.Dropout(0.4))\n",
    "model.add(tf.keras.layers.LSTM(64,return_sequences=True))\n",
    "model.add(tf.keras.layers.Dropout(0.2))\n",
    "model.add(tf.keras.layers.Flatten())\n",
    "model.add(tf.keras.layers.Dense(24, activation=\"sigmoid\"))\n",
    "model.add(tf.keras.layers.Dense(24, activation=\"sigmoid\"))\n",
    "model.add(tf.keras.layers.Dropout(.1))\n",
    "model.add(tf.keras.layers.Dense(5))\n",
    "model.compile(optimizer=\"adam\", loss=\"mse\", metrics=[tf.keras.metrics.MeanAbsoluteError()])\n",
    "model.summary()"
   ]
  },
  {
   "cell_type": "code",
   "execution_count": 47,
   "metadata": {},
   "outputs": [
    {
     "data": {
      "text/plain": [
       "3.0172883801425754"
      ]
     },
     "execution_count": 47,
     "metadata": {},
     "output_type": "execute_result"
    }
   ],
   "source": [
    "mb_per_par*245357\n",
    "\n",
    "mb_per_par*248941"
   ]
  },
  {
   "cell_type": "markdown",
   "metadata": {},
   "source": [
    "# 3MB Multistage"
   ]
  },
  {
   "cell_type": "code",
   "execution_count": 22,
   "metadata": {},
   "outputs": [
    {
     "name": "stdout",
     "output_type": "stream",
     "text": [
      "Model: \"sequential_8\"\n",
      "_________________________________________________________________\n",
      " Layer (type)                Output Shape              Param #   \n",
      "=================================================================\n",
      " lstm_32 (LSTM)              (None, 10, 56)            13888     \n",
      "                                                                 \n",
      " dropout_40 (Dropout)        (None, 10, 56)            0         \n",
      "                                                                 \n",
      " lstm_33 (LSTM)              (None, 10, 48)            20160     \n",
      "                                                                 \n",
      " dropout_41 (Dropout)        (None, 10, 48)            0         \n",
      "                                                                 \n",
      " lstm_34 (LSTM)              (None, 10, 36)            12240     \n",
      "                                                                 \n",
      " dropout_42 (Dropout)        (None, 10, 36)            0         \n",
      "                                                                 \n",
      " lstm_35 (LSTM)              (None, 10, 36)            10512     \n",
      "                                                                 \n",
      " dropout_43 (Dropout)        (None, 10, 36)            0         \n",
      "                                                                 \n",
      " flatten_8 (Flatten)         (None, 360)               0         \n",
      "                                                                 \n",
      " dense_24 (Dense)            (None, 16)                5776      \n",
      "                                                                 \n",
      " dense_25 (Dense)            (None, 16)                272       \n",
      "                                                                 \n",
      " dropout_44 (Dropout)        (None, 16)                0         \n",
      "                                                                 \n",
      " dense_26 (Dense)            (None, 5)                 85        \n",
      "                                                                 \n",
      "=================================================================\n",
      "Total params: 62,933\n",
      "Trainable params: 62,933\n",
      "Non-trainable params: 0\n",
      "_________________________________________________________________\n"
     ]
    }
   ],
   "source": [
    "model = tf.keras.Sequential()\n",
    "model.add(tf.keras.layers.LSTM(56, input_shape=(10, 5), return_sequences=True))\n",
    "model.add(tf.keras.layers.Dropout(.4))\n",
    "model.add(tf.keras.layers.LSTM(48,return_sequences=True))\n",
    "model.add(tf.keras.layers.Dropout(.3))\n",
    "model.add(tf.keras.layers.LSTM(36,return_sequences=True))\n",
    "model.add(tf.keras.layers.Dropout(0.4))\n",
    "model.add(tf.keras.layers.LSTM(36,return_sequences=True))\n",
    "model.add(tf.keras.layers.Dropout(0.2))\n",
    "model.add(tf.keras.layers.Flatten())\n",
    "model.add(tf.keras.layers.Dense(16, activation=\"sigmoid\"))\n",
    "model.add(tf.keras.layers.Dense(16, activation=\"sigmoid\"))\n",
    "model.add(tf.keras.layers.Dropout(.1))\n",
    "model.add(tf.keras.layers.Dense(5))\n",
    "model.compile(optimizer=\"adam\", loss=\"mse\", metrics=[tf.keras.metrics.MeanAbsoluteError()])\n",
    "model.summary() "
   ]
  },
  {
   "cell_type": "code",
   "execution_count": 23,
   "metadata": {},
   "outputs": [
    {
     "name": "stdout",
     "output_type": "stream",
     "text": [
      "3.0511166843149615\n"
     ]
    }
   ],
   "source": [
    "a = mb_per_par*62933\n",
    "print(a*4)"
   ]
  },
  {
   "attachments": {},
   "cell_type": "markdown",
   "metadata": {},
   "source": [
    "# 1.5Mb Multistage"
   ]
  },
  {
   "cell_type": "code",
   "execution_count": 45,
   "metadata": {},
   "outputs": [
    {
     "name": "stdout",
     "output_type": "stream",
     "text": [
      "Model: \"sequential_20\"\n",
      "_________________________________________________________________\n",
      " Layer (type)                Output Shape              Param #   \n",
      "=================================================================\n",
      " lstm_72 (LSTM)              (None, 10, 48)            11712     \n",
      "                                                                 \n",
      " dropout_92 (Dropout)        (None, 10, 48)            0         \n",
      "                                                                 \n",
      " lstm_73 (LSTM)              (None, 10, 32)            10368     \n",
      "                                                                 \n",
      " dropout_93 (Dropout)        (None, 10, 32)            0         \n",
      "                                                                 \n",
      " lstm_74 (LSTM)              (None, 10, 24)            5472      \n",
      "                                                                 \n",
      " dropout_94 (Dropout)        (None, 10, 24)            0         \n",
      "                                                                 \n",
      " flatten_20 (Flatten)        (None, 240)               0         \n",
      "                                                                 \n",
      " dense_60 (Dense)            (None, 16)                3856      \n",
      "                                                                 \n",
      " dense_61 (Dense)            (None, 16)                272       \n",
      "                                                                 \n",
      " dropout_95 (Dropout)        (None, 16)                0         \n",
      "                                                                 \n",
      " dense_62 (Dense)            (None, 5)                 85        \n",
      "                                                                 \n",
      "=================================================================\n",
      "Total params: 31,765\n",
      "Trainable params: 31,765\n",
      "Non-trainable params: 0\n",
      "_________________________________________________________________\n"
     ]
    }
   ],
   "source": [
    "model = tf.keras.Sequential()\n",
    "model.add(tf.keras.layers.LSTM(48, input_shape=(10, 5), return_sequences=True))\n",
    "model.add(tf.keras.layers.Dropout(.4))\n",
    "model.add(tf.keras.layers.LSTM(32,return_sequences=True))\n",
    "model.add(tf.keras.layers.Dropout(.3))\n",
    "model.add(tf.keras.layers.LSTM(24,return_sequences=True))\n",
    "model.add(tf.keras.layers.Dropout(0.4))\n",
    "model.add(tf.keras.layers.Flatten())\n",
    "model.add(tf.keras.layers.Dense(16, activation=\"sigmoid\"))\n",
    "model.add(tf.keras.layers.Dense(16, activation=\"sigmoid\"))\n",
    "model.add(tf.keras.layers.Dropout(.1))\n",
    "model.add(tf.keras.layers.Dense(5))\n",
    "model.compile(optimizer=\"adam\", loss=\"mse\", metrics=[tf.keras.metrics.MeanAbsoluteError()])\n",
    "model.summary() "
   ]
  },
  {
   "cell_type": "code",
   "execution_count": 46,
   "metadata": {},
   "outputs": [
    {
     "name": "stdout",
     "output_type": "stream",
     "text": [
      "1.540030214311486\n"
     ]
    }
   ],
   "source": [
    "b = mb_per_par*31765\n",
    "print(b*4)"
   ]
  }
 ],
 "metadata": {
  "kernelspec": {
   "display_name": "tf",
   "language": "python",
   "name": "python3"
  },
  "language_info": {
   "codemirror_mode": {
    "name": "ipython",
    "version": 3
   },
   "file_extension": ".py",
   "mimetype": "text/x-python",
   "name": "python",
   "nbconvert_exporter": "python",
   "pygments_lexer": "ipython3",
   "version": "3.9.15"
  },
  "orig_nbformat": 4
 },
 "nbformat": 4,
 "nbformat_minor": 2
}
