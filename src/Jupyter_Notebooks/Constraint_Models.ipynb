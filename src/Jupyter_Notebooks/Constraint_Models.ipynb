{
 "cells": [
  {
   "cell_type": "code",
   "execution_count": null,
   "metadata": {},
   "outputs": [],
   "source": [
    "import numpy as np\n",
    "import tensorflow as tf"
   ]
  },
  {
   "cell_type": "code",
   "execution_count": null,
   "metadata": {},
   "outputs": [],
   "source": [
    "# Rough Mb per parmeter\n",
    "mb_per_par = 1.4821548461914062/122285\n",
    "mb_per_par"
   ]
  },
  {
   "cell_type": "code",
   "execution_count": null,
   "metadata": {},
   "outputs": [],
   "source": [
    "model = tf.keras.Sequential()\n",
    "model.add(tf.keras.layers.LSTM(96, input_shape=(10, 20), return_sequences=True))\n",
    "model.add(tf.keras.layers.Dropout(.4))\n",
    "model.add(tf.keras.layers.LSTM(48,return_sequences=True))\n",
    "model.add(tf.keras.layers.Dropout(.3))\n",
    "model.add(tf.keras.layers.LSTM(48,return_sequences=True))\n",
    "model.add(tf.keras.layers.Dropout(0.4))\n",
    "model.add(tf.keras.layers.LSTM(48,return_sequences=True))\n",
    "model.add(tf.keras.layers.Dropout(0.2))\n",
    "model.add(tf.keras.layers.Flatten())\n",
    "model.add(tf.keras.layers.Dense(24, activation=\"sigmoid\"))\n",
    "model.add(tf.keras.layers.Dense(24, activation=\"sigmoid\"))\n",
    "model.add(tf.keras.layers.Dropout(.1))\n",
    "model.add(tf.keras.layers.Dense(5))\n",
    "model.compile(optimizer=\"adam\", loss=\"mse\", metrics=[tf.keras.metrics.MeanAbsoluteError()])\n",
    "model.summary()"
   ]
  },
  {
   "attachments": {},
   "cell_type": "markdown",
   "metadata": {},
   "source": [
    "# 3MB Baseline"
   ]
  },
  {
   "cell_type": "code",
   "execution_count": null,
   "metadata": {},
   "outputs": [],
   "source": [
    "model = tf.keras.Sequential()\n",
    "model.add(tf.keras.layers.LSTM(128, input_shape=(10, 5), return_sequences=True))\n",
    "model.add(tf.keras.layers.Dropout(.4))\n",
    "model.add(tf.keras.layers.LSTM(96,return_sequences=True))\n",
    "model.add(tf.keras.layers.Dropout(.3))\n",
    "model.add(tf.keras.layers.LSTM(64,return_sequences=True))\n",
    "model.add(tf.keras.layers.Dropout(0.4))\n",
    "model.add(tf.keras.layers.LSTM(64,return_sequences=True))\n",
    "model.add(tf.keras.layers.Dropout(0.2))\n",
    "model.add(tf.keras.layers.Flatten())\n",
    "model.add(tf.keras.layers.Dense(24, activation=\"sigmoid\"))\n",
    "model.add(tf.keras.layers.Dense(24, activation=\"sigmoid\"))\n",
    "model.add(tf.keras.layers.Dropout(.1))\n",
    "model.add(tf.keras.layers.Dense(5))\n",
    "model.compile(optimizer=\"adam\", loss=\"mse\", metrics=[tf.keras.metrics.MeanAbsoluteError()])\n",
    "model.summary()"
   ]
  },
  {
   "cell_type": "code",
   "execution_count": null,
   "metadata": {},
   "outputs": [],
   "source": [
    "mb_per_par*245357\n",
    "\n",
    "mb_per_par*248941"
   ]
  },
  {
   "attachments": {},
   "cell_type": "markdown",
   "metadata": {},
   "source": [
    "# 3MB Multistage"
   ]
  },
  {
   "cell_type": "code",
   "execution_count": null,
   "metadata": {},
   "outputs": [],
   "source": [
    "model = tf.keras.Sequential()\n",
    "model.add(tf.keras.layers.LSTM(56, input_shape=(10, 5), return_sequences=True))\n",
    "model.add(tf.keras.layers.Dropout(.4))\n",
    "model.add(tf.keras.layers.LSTM(48,return_sequences=True))\n",
    "model.add(tf.keras.layers.Dropout(.3))\n",
    "model.add(tf.keras.layers.LSTM(36,return_sequences=True))\n",
    "model.add(tf.keras.layers.Dropout(0.4))\n",
    "model.add(tf.keras.layers.LSTM(36,return_sequences=True))\n",
    "model.add(tf.keras.layers.Dropout(0.2))\n",
    "model.add(tf.keras.layers.Flatten())\n",
    "model.add(tf.keras.layers.Dense(16, activation=\"sigmoid\"))\n",
    "model.add(tf.keras.layers.Dense(16, activation=\"sigmoid\"))\n",
    "model.add(tf.keras.layers.Dropout(.1))\n",
    "model.add(tf.keras.layers.Dense(5))\n",
    "model.compile(optimizer=\"adam\", loss=\"mse\", metrics=[tf.keras.metrics.MeanAbsoluteError()])\n",
    "model.summary() "
   ]
  },
  {
   "cell_type": "code",
   "execution_count": null,
   "metadata": {},
   "outputs": [],
   "source": [
    "a = mb_per_par*62933\n",
    "print(a*4)"
   ]
  },
  {
   "attachments": {},
   "cell_type": "markdown",
   "metadata": {},
   "source": [
    "# 1.5Mb Multistage"
   ]
  },
  {
   "cell_type": "code",
   "execution_count": null,
   "metadata": {},
   "outputs": [],
   "source": [
    "model = tf.keras.Sequential()\n",
    "model.add(tf.keras.layers.LSTM(48, input_shape=(10, 5), return_sequences=True))\n",
    "model.add(tf.keras.layers.Dropout(.4))\n",
    "model.add(tf.keras.layers.LSTM(32,return_sequences=True))\n",
    "model.add(tf.keras.layers.Dropout(.3))\n",
    "model.add(tf.keras.layers.LSTM(24,return_sequences=True))\n",
    "model.add(tf.keras.layers.Dropout(0.4))\n",
    "model.add(tf.keras.layers.Flatten())\n",
    "model.add(tf.keras.layers.Dense(16, activation=\"sigmoid\"))\n",
    "model.add(tf.keras.layers.Dense(16, activation=\"sigmoid\"))\n",
    "model.add(tf.keras.layers.Dropout(.1))\n",
    "model.add(tf.keras.layers.Dense(5))\n",
    "model.compile(optimizer=\"adam\", loss=\"mse\", metrics=[tf.keras.metrics.MeanAbsoluteError()])\n",
    "model.summary() "
   ]
  },
  {
   "cell_type": "code",
   "execution_count": null,
   "metadata": {},
   "outputs": [],
   "source": [
    "# b = mb_per_par*31765\n",
    "# print(b*4)\n",
    "print(\"multistage size\", 30421*4)\n",
    "\n",
    "(122285-(30421*4))/122285"
   ]
  }
 ],
 "metadata": {
  "kernelspec": {
   "display_name": "tf",
   "language": "python",
   "name": "python3"
  },
  "language_info": {
   "codemirror_mode": {
    "name": "ipython",
    "version": 3
   },
   "file_extension": ".py",
   "mimetype": "text/x-python",
   "name": "python",
   "nbconvert_exporter": "python",
   "pygments_lexer": "ipython3",
   "version": "3.9.15"
  },
  "orig_nbformat": 4
 },
 "nbformat": 4,
 "nbformat_minor": 2
}
