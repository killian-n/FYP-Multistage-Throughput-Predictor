{
 "cells": [
  {
   "cell_type": "code",
   "execution_count": null,
   "metadata": {},
   "outputs": [],
   "source": [
    "import configparser\n",
    "import sys\n",
    "import pandas as pd\n",
    "import numpy as np\n",
    "import pickle\n",
    "import tensorflow as tf\n",
    "from matplotlib import pyplot as plt\n",
    "from sklearn.metrics import confusion_matrix, ConfusionMatrixDisplay\n",
    "project_path = \"C:/Users/Killian/Desktop/FYP-Multistage-Throughput-Predictor/\""
   ]
  },
  {
   "cell_type": "code",
   "execution_count": null,
   "metadata": {},
   "outputs": [],
   "source": [
    "unweighted_true = np.squeeze(np.load(project_path+\"Datasets/Model_Outputs/label_preditor_univariate_unweighted_true_y.npy\"))\n",
    "unweighted_predicted = np.load(project_path+\"Datasets/Model_Outputs/label_preditor_univariate_unweighted_predicted_y.npy\")\n",
    "\n",
    "weighted_true = np.squeeze(np.load(project_path+\"Datasets/Model_Outputs/multi_all_univariate_label_predictor_true_y.npy\"))\n",
    "weighted_predicted = np.load(project_path+\"Datasets/Model_Outputs/multi_all_univariate_label_predictor_predicted_y.npy\")"
   ]
  },
  {
   "cell_type": "code",
   "execution_count": null,
   "metadata": {},
   "outputs": [],
   "source": [
    "def replace_labels(label_matrix):\n",
    "    label_matrix = np.argmax(label_matrix, axis=-1)\n",
    "    return label_matrix"
   ]
  },
  {
   "cell_type": "code",
   "execution_count": null,
   "metadata": {},
   "outputs": [],
   "source": [
    "unweighted_true = replace_labels(unweighted_true)\n",
    "unweighted_predicted = replace_labels(unweighted_predicted)\n",
    "weighted_true = replace_labels(weighted_true)\n",
    "weighted_predicted = replace_labels(weighted_predicted)"
   ]
  },
  {
   "cell_type": "code",
   "execution_count": null,
   "metadata": {},
   "outputs": [],
   "source": [
    "unweighted_confusion_matrix = confusion_matrix(unweighted_true, unweighted_predicted)"
   ]
  },
  {
   "cell_type": "code",
   "execution_count": null,
   "metadata": {},
   "outputs": [],
   "source": [
    "weighted_confusion_matrix = confusion_matrix(weighted_true, weighted_predicted)"
   ]
  },
  {
   "cell_type": "code",
   "execution_count": null,
   "metadata": {},
   "outputs": [],
   "source": [
    "weighted_disp = ConfusionMatrixDisplay(weighted_confusion_matrix, display_labels=[\"Low\", \"Medium\", \"High\"])\n",
    "weighted_disp.plot(cmap=\"Reds\")\n",
    "plt.show()"
   ]
  },
  {
   "cell_type": "code",
   "execution_count": null,
   "metadata": {},
   "outputs": [],
   "source": [
    "unweighted_disp = ConfusionMatrixDisplay(unweighted_confusion_matrix, display_labels=[\"Low\", \"Medium\", \"High\"])\n",
    "unweighted_disp.plot(cmap=\"Blues\")\n",
    "plt.show()"
   ]
  }
 ],
 "metadata": {
  "kernelspec": {
   "display_name": "tf",
   "language": "python",
   "name": "python3"
  },
  "language_info": {
   "codemirror_mode": {
    "name": "ipython",
    "version": 3
   },
   "file_extension": ".py",
   "mimetype": "text/x-python",
   "name": "python",
   "nbconvert_exporter": "python",
   "pygments_lexer": "ipython3",
   "version": "3.9.15"
  },
  "orig_nbformat": 4,
  "vscode": {
   "interpreter": {
    "hash": "a5492aaff6d4559dbcfc19ba64ea7a214011c940d9757f1a2b56edb0be842c7d"
   }
  }
 },
 "nbformat": 4,
 "nbformat_minor": 2
}
