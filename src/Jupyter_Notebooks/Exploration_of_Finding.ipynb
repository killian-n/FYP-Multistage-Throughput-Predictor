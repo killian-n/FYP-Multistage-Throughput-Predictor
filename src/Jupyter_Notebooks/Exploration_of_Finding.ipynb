{
 "cells": [
  {
   "attachments": {},
   "cell_type": "markdown",
   "metadata": {},
   "source": [
    "## Importing Libraries"
   ]
  },
  {
   "cell_type": "code",
   "execution_count": 3,
   "metadata": {},
   "outputs": [],
   "source": [
    "import pandas as pd\n",
    "import numpy as np\n",
    "from matplotlib import pyplot as plt\n",
    "from prettytable import PrettyTable\n",
    "from sklearn.metrics import confusion_matrix, ConfusionMatrixDisplay, classification_report\n",
    "plt.rcParams[\"font.weight\"] = \"bold\"\n",
    "plt.rcParams[\"axes.labelweight\"] = \"bold\""
   ]
  },
  {
   "cell_type": "code",
   "execution_count": 4,
   "metadata": {},
   "outputs": [],
   "source": [
    "DATASETS_FOLDER = \"C:/Users/Killian/Desktop/FYP-Multistage-Throughput-Predictor/Datasets/Final_Outputs/\"\n",
    "IMAGES_OUTPUT_FOLDER = \"C:/Users/Killian/Desktop/FYP-Multistage-Throughput-Predictor/Own Papers/Undergraduate Paper/Images/\""
   ]
  },
  {
   "attachments": {},
   "cell_type": "markdown",
   "metadata": {},
   "source": [
    "## Defining Analysis Functions"
   ]
  },
  {
   "cell_type": "code",
   "execution_count": 5,
   "metadata": {},
   "outputs": [],
   "source": [
    "def import_data(model_name=\"univariate_baseline\", just_preds=False, mb=True):\n",
    "    if just_preds:\n",
    "        predicted = np.load(DATASETS_FOLDER+model_name+\"_predicted_y.npy\")\n",
    "        if mb:\n",
    "            return predicted/1024\n",
    "        return predicted\n",
    "    true = np.squeeze(np.load(DATASETS_FOLDER+model_name+\"_true_y.npy\"))\n",
    "    predicted = np.load(DATASETS_FOLDER+model_name+\"_predicted_y.npy\")\n",
    "    if mb:\n",
    "        return true/1024, predicted/1024\n",
    "    return true, predicted"
   ]
  },
  {
   "cell_type": "code",
   "execution_count": 6,
   "metadata": {},
   "outputs": [],
   "source": [
    "def get_variance(data):\n",
    "    return np.var(data)"
   ]
  },
  {
   "cell_type": "code",
   "execution_count": 7,
   "metadata": {},
   "outputs": [],
   "source": [
    "def get_std(data):\n",
    "    return np.std(data)"
   ]
  },
  {
   "cell_type": "code",
   "execution_count": 8,
   "metadata": {},
   "outputs": [],
   "source": [
    "def get_ts_residuals(true, pred):\n",
    "        residuals = true-pred\n",
    "        return residuals"
   ]
  },
  {
   "cell_type": "code",
   "execution_count": 9,
   "metadata": {},
   "outputs": [],
   "source": [
    "import seaborn as sns\n",
    "def time_step_boxplots(residuals=[], model_names=[], title=\"\", xlim=(), savefig_path=\"\", xlab=\"Residuals (Mbps)\",showfliers = True):\n",
    "    df = pd.DataFrame()\n",
    "    for model, residuals in zip(model_names, residuals):\n",
    "        for i in range(residuals.shape[1]):\n",
    "            temp_df = pd.DataFrame()\n",
    "            temp_df[xlab] = residuals[:,i]\n",
    "            temp_df[\"Horizon (seconds)\"] = i+1\n",
    "            temp_df[\"Model\"] = model\n",
    "            df = pd.concat([df, temp_df])\n",
    "    sns.set_theme(style=\"whitegrid\")\n",
    "    if showfliers:\n",
    "        box = sns.boxplot(x=xlab, y=\"Horizon (seconds)\",\n",
    "                    hue=\"Model\",\n",
    "                    data=df, orient=\"h\", whis=(5,95), saturation=1, flierprops={'marker': 'o', 'markersize': 5, 'markerfacecolor': 'pink'})\n",
    "    else:\n",
    "        box = sns.boxplot(x=xlab, y=\"Horizon (seconds)\",\n",
    "            hue=\"Model\",\n",
    "            data=df, orient=\"h\", whis=(5,95), saturation=1, showfliers=False)\n",
    "    if xlim:\n",
    "        box.set_xlim(xlim)\n",
    "    box.set_title(title)\n",
    "    plt.legend(bbox_to_anchor=(1.02, 1), loc='upper left', borderaxespad=0)\n",
    "    # box.set_ylabel(\"Horizon (seconds)\")\n",
    "    if savefig_path:\n",
    "        plt.savefig(savefig_path, dpi=300, bbox_inches='tight')\n",
    "    plt.show() # Display the plot on the screen\n",
    "    "
   ]
  },
  {
   "cell_type": "code",
   "execution_count": 10,
   "metadata": {},
   "outputs": [],
   "source": [
    "def get_mape(true, predicted, epsilon=50/1024):\n",
    "    denominator = np.squeeze(true) + epsilon\n",
    "    try:\n",
    "        mape = np.mean(np.abs((np.squeeze(true) - predicted)/denominator))*100\n",
    "    except Exception as e:\n",
    "        print(e)\n",
    "        mape = \"n/a\"\n",
    "    return mape"
   ]
  },
  {
   "cell_type": "code",
   "execution_count": 11,
   "metadata": {},
   "outputs": [],
   "source": [
    "def get_ape(true, predicted, epsilon=50/1024):\n",
    "    denominator = np.squeeze(true) + epsilon\n",
    "    try:\n",
    "        ape = np.abs((np.squeeze(true) - predicted)/denominator)*100\n",
    "    except Exception as e:\n",
    "        print(e)\n",
    "        ape = \"n/a\"\n",
    "    return ape"
   ]
  },
  {
   "cell_type": "code",
   "execution_count": 12,
   "metadata": {},
   "outputs": [],
   "source": [
    "def get_mse(true, predicted):\n",
    "    mse = np.mean(np.power(np.squeeze(true)-predicted, 2))\n",
    "    return mse"
   ]
  },
  {
   "cell_type": "code",
   "execution_count": 13,
   "metadata": {},
   "outputs": [],
   "source": [
    "def get_mae(true, predicted):\n",
    "    mae = np.mean(np.abs(np.squeeze(true)-predicted))\n",
    "    return mae"
   ]
  },
  {
   "cell_type": "code",
   "execution_count": 14,
   "metadata": {},
   "outputs": [],
   "source": [
    "def create_latex_table(table):\n",
    "    latex_string = \"\\\\begin{table}[!htb]\\n\\\\centering\\n\\\\begin{tabular}{|c|c|c|c|c|c|}\\n\\\\hline\\n{Model} & {Mean Resids (Mbps)} & {Resids std (Mbps)} & {MAPE} & {MSE (Mbps)} & {MAE (Mbps)}\\\\\\\\\\n\\\\hline\\n\"\n",
    "    for row in table:\n",
    "        for i in range(len(row)):\n",
    "            if i == len(row) - 1:\n",
    "                latex_string += str(row[i]) + \"\\\\\\\\\\n\\\\hline\\n\"\n",
    "            else:\n",
    "                latex_string += str(row[i]) + \" & \"\n",
    "    latex_string_end = \"\\\\end{tabular}\\n\\\\label{tab:train_test_dist}\\n\\\\end{table}\"\n",
    "    latex_string = latex_string + latex_string_end\n",
    "    print(latex_string)"
   ]
  },
  {
   "cell_type": "code",
   "execution_count": 15,
   "metadata": {},
   "outputs": [],
   "source": [
    "def carry_out_analysis(prefix=\"univariate\", title_prefix=\"Univariate\"):\n",
    "    for dataset in [\"low\", \"medium\", \"high\", 1]:\n",
    "        if dataset == 1:\n",
    "            base_true, base_pred = import_data(model_name=\"{}_baseline\".format(prefix))\n",
    "            multiOne_true, multiOne_pred = import_data(model_name=\"{}_multiOne\".format(prefix))\n",
    "            multiAll_true, multiAll_pred = import_data(model_name=\"{}_multiAll\".format(prefix))\n",
    "\n",
    "            # Get Residuals\n",
    "            base_resids = get_ts_residuals(base_true, base_pred)\n",
    "            multiOne_resids = get_ts_residuals(multiOne_true, multiOne_pred)\n",
    "            multiAll_resids = get_ts_residuals(multiAll_true, multiAll_pred)\n",
    "\n",
    "            # Get Absolute Percent Error\n",
    "            base_ape = get_ape(base_true, base_pred)\n",
    "            multiOne_ape = get_ape(multiOne_true, multiOne_pred)\n",
    "            multiAll_ape = get_ape(multiAll_true, multiAll_pred)\n",
    "            \n",
    "            # Boxplot of residuals\n",
    "            time_step_boxplots(residuals=[base_resids, multiOne_resids, multiAll_resids],\n",
    "                                model_names=[\"Baseline\", \"Multistage One\", \"Multistage All\"],\n",
    "                                  title=\"Model Performance on All Test Sequences\",\n",
    "                                  savefig_path=IMAGES_OUTPUT_FOLDER+\"{} On All Test Data\".format(title_prefix))\n",
    "            \n",
    "            # Boxplot of Absolute Percent Error\n",
    "            time_step_boxplots(residuals=[base_ape, multiOne_ape, multiAll_ape],\n",
    "                                model_names=[\"Baseline\", \"Multistage One\", \"Multistage All\"],\n",
    "                                  title=\"Absolute Percent Error on All Test Sequences\",\n",
    "                                  savefig_path=IMAGES_OUTPUT_FOLDER+\"APE of {} On All Test Data\".format(title_prefix), xlab=\"Absolute Percent Error\")\n",
    "            \n",
    "            # Boxplot of residuals No outliers\n",
    "            time_step_boxplots(residuals=[base_resids, multiOne_resids, multiAll_resids],\n",
    "                                model_names=[\"Baseline\", \"Multistage One\", \"Multistage All\"],\n",
    "                                  title=\"Model Performance on All Test Sequences\",\n",
    "                                  savefig_path=IMAGES_OUTPUT_FOLDER+\"{} On All Test Data no Outliers\".format(title_prefix), showfliers = False)\n",
    "            \n",
    "            # Boxplot of Absolute Percent Error no Outliers\n",
    "            time_step_boxplots(residuals=[base_ape, multiOne_ape, multiAll_ape],\n",
    "                                model_names=[\"Baseline\", \"Multistage One\", \"Multistage All\"],\n",
    "                                  title=\"Absolute Percent Error on All Test Sequences\",\n",
    "                                  savefig_path=IMAGES_OUTPUT_FOLDER+\"APE of {} On All Test Data no Outliers\".format(title_prefix), xlab=\"Absolute Percent Error\", showfliers = False)\n",
    "\n",
    "\n",
    "            # Standard Dev\n",
    "            base_std = get_std(base_resids)\n",
    "            multiOne_std = get_std(multiOne_resids)\n",
    "            multiAll_std = get_std(multiAll_resids)\n",
    "\n",
    "            # MAPE\n",
    "            base_mape = get_mape(base_true, base_pred)\n",
    "            multiOne_mape = get_mape(multiOne_true, multiOne_pred)\n",
    "            multiAll_mape = get_mape(multiAll_true, multiAll_pred)\n",
    "\n",
    "            # MSE\n",
    "            base_mse = get_mse(base_true, base_pred)\n",
    "            multiOne_mse = get_mse(multiOne_true, multiOne_pred)\n",
    "            multiAll_mse = get_mse(multiAll_true, multiAll_pred)\n",
    "\n",
    "            # MAE\n",
    "            base_mae = get_mae(base_true, base_pred)\n",
    "            multiOne_mae = get_mae(multiOne_true, multiOne_pred)\n",
    "            multiAll_mae = get_mae(multiAll_true, multiAll_pred)\n",
    "\n",
    "            # Table of metrics\n",
    "            table = PrettyTable([\"Model\", \"Mean Resids (Mbps)\", \" Resids std (Mbps)\", \"MAPE\", \"MSE\", \"MAE\"])\n",
    "            table.add_row([\"Baseline\",np.mean(base_resids), base_std, base_mape, base_mse, base_mae])\n",
    "            table.add_row([\"Multistage One\",np.mean(multiOne_resids), multiOne_std, multiOne_mape, multiOne_mse, multiOne_mae])\n",
    "            table.add_row([\"Multistage All\",np.mean(multiAll_resids), multiAll_std, multiAll_mape, multiAll_mse, multiAll_mae])\n",
    "            print(\"Residuals of All Sequences Test Set\")\n",
    "            #print(table)\n",
    "            raw_table = []\n",
    "            raw_table.append([\"Baseline\",round(np.mean(base_resids),3), round(base_std,3), round(base_mape,3), round(base_mse,3), round(base_mae,3)])\n",
    "            raw_table.append([\"Multistage One\",round(np.mean(multiOne_resids),3), round(multiOne_std,3), round(multiOne_mape,3), round(multiOne_mse,3), round(multiOne_mae,3)])\n",
    "            raw_table.append([\"Multistage All\",round(np.mean(multiAll_resids),3), round(multiAll_std,3), round(multiAll_mape,3), round(multiAll_mse,3), round(multiAll_mae,3)])\n",
    "            create_latex_table(raw_table)\n",
    "        else:\n",
    "            base_true, base_pred = import_data(model_name=\"{}_baseline_{}\".format(prefix, dataset))\n",
    "            single_true, single_pred = import_data(model_name=\"{}_multiOne_{}\".format(prefix, dataset))\n",
    "\n",
    "            # Get Residuals\n",
    "            base_resids = get_ts_residuals(base_true, base_pred)\n",
    "            single_resids = get_ts_residuals(single_true, single_pred)\n",
    "\n",
    "            # Get APE\n",
    "            base_ape = get_ape(base_true, base_pred)\n",
    "            single_ape = get_ape(single_true, single_pred)\n",
    "            \n",
    "            # Boxplot of residuals\n",
    "            time_step_boxplots(residuals=[base_resids, single_resids],\n",
    "                                model_names=[\"Baseline\", \"{} Only\".format(dataset)],\n",
    "                                  title=\"Model Performance on {} Test Sequences\".format(dataset.capitalize()),\n",
    "                                  savefig_path=IMAGES_OUTPUT_FOLDER+\"{} On {} Test Set\".format(title_prefix, dataset))\n",
    "\n",
    "            # Boxplot of APE\n",
    "            time_step_boxplots(residuals=[base_ape, single_ape],\n",
    "                                model_names=[\"Baseline\", \"{} Only\".format(dataset)],\n",
    "                                  title=\"Absolute Percent Error on {} Test Sequences\".format(dataset.capitalize()),\n",
    "                                  savefig_path=IMAGES_OUTPUT_FOLDER+\"APE of {} On {} Test Set\".format(title_prefix, dataset), xlab=\"Absolute Percent Error\")\n",
    "            \n",
    "            # Boxplot of residuals no Outliers\n",
    "            time_step_boxplots(residuals=[base_resids, single_resids],\n",
    "                                model_names=[\"Baseline\", \"{} Only\".format(dataset)],\n",
    "                                  title=\"Model Performance on {} Test Sequences\".format(dataset.capitalize()),\n",
    "                                  savefig_path=IMAGES_OUTPUT_FOLDER+\"{} On {} Test Set no Outliers\".format(title_prefix, dataset), showfliers = False)\n",
    "\n",
    "            # Boxplot of APE no Outliers\n",
    "            time_step_boxplots(residuals=[base_ape, single_ape],\n",
    "                                model_names=[\"Baseline\", \"{} Only\".format(dataset)],\n",
    "                                  title=\"Absolute Percent Error on {} Test Sequences\".format(dataset.capitalize()),\n",
    "                                  savefig_path=IMAGES_OUTPUT_FOLDER+\"APE of {} On {} Test Set no Outliers\".format(title_prefix, dataset), xlab=\"Absolute Percent Error\", showfliers = False)\n",
    "\n",
    "          ###############\n",
    "            multiOne_pred = import_data(model_name=\"{}_multiOne_ms_{}\".format(prefix, dataset), just_preds=True)\n",
    "            multiAll_pred = import_data(model_name=\"{}_multiAll_ms_{}\".format(prefix, dataset), just_preds=True)\n",
    "\n",
    "            #resids\n",
    "            multiOne_resids = get_ts_residuals(single_true, multiOne_pred)\n",
    "            multiAll_resids = get_ts_residuals(single_true, multiAll_pred)\n",
    "\n",
    "            multiOne_ape = get_ape(single_true, multiOne_pred)\n",
    "            multiAll_ape = get_ape(single_true, multiAll_pred)\n",
    "\n",
    "            # Boxplot of residuals\n",
    "            time_step_boxplots(residuals=[base_resids, multiOne_resids, multiAll_resids],\n",
    "                                model_names=[\"Baseline\", \"Multistage One\", \"Multistage All\"],\n",
    "                                  title=\"Model Performance on {} Test Sequences\".format(dataset.capitalize()),\n",
    "                                  savefig_path=IMAGES_OUTPUT_FOLDER+\"MS {} On {} Test Set\".format(title_prefix, dataset))\n",
    "\n",
    "            # Boxplot of APE\n",
    "            time_step_boxplots(residuals=[base_ape, multiOne_ape, multiAll_ape],\n",
    "                                model_names=[\"Baseline\", \"Multistage One\", \"Multistage All\"],\n",
    "                                  title=\"Absolute Percent Error on {} Test Sequences\".format(dataset.capitalize()),\n",
    "                                  savefig_path=IMAGES_OUTPUT_FOLDER+\"MS APE of {} On {} Test Set\".format(title_prefix, dataset), xlab=\"Absolute Percent Error\")\n",
    "            \n",
    "            # Boxplot of residuals no Outliers\n",
    "            time_step_boxplots(residuals=[base_resids, multiOne_resids, multiAll_resids],\n",
    "                                model_names=[\"Baseline\", \"Multistage One\", \"Multistage All\"],\n",
    "                                  title=\"Model Performance on {} Test Sequences\".format(dataset.capitalize()),\n",
    "                                  savefig_path=IMAGES_OUTPUT_FOLDER+\"MS {} On {} Test Set no Outliers\".format(title_prefix, dataset), showfliers = False)\n",
    "\n",
    "            # Boxplot of APE no Outliers\n",
    "            time_step_boxplots(residuals=[base_ape, multiOne_ape, multiAll_ape],\n",
    "                                model_names=[\"Baseline\", \"Multistage One\", \"Multistage All\"],\n",
    "                                  title=\"Absolute Percent Error on {} Test Sequences\".format(dataset.capitalize()),\n",
    "                                  savefig_path=IMAGES_OUTPUT_FOLDER+\"MS APE of {} On {} Test Set no Outliers\".format(title_prefix, dataset), xlab=\"Absolute Percent Error\", showfliers = False)\n",
    "                        # Standard Dev\n",
    "            base_std = get_std(base_resids)\n",
    "            multiOne_std = get_std(multiOne_resids)\n",
    "            multiAll_std = get_std(multiAll_resids)\n",
    "\n",
    "            # MAPE\n",
    "            base_mape = get_mape(base_true, base_pred)\n",
    "            multiOne_mape = get_mape(single_true, multiOne_pred)\n",
    "            multiAll_mape = get_mape(single_true, multiAll_pred)\n",
    "\n",
    "            # MSE\n",
    "            base_mse = get_mse(base_true, base_pred)\n",
    "            multiOne_mse = get_mse(single_true, multiOne_pred)\n",
    "            multiAll_mse = get_mse(single_true, multiAll_pred)\n",
    "\n",
    "            # MAE\n",
    "            base_mae = get_mae(base_true, base_pred)\n",
    "            multiOne_mae = get_mae(single_true, multiOne_pred)\n",
    "            multiAll_mae = get_mae(single_true, multiAll_pred)\n",
    "            \n",
    "            \n",
    "            raw_table = []\n",
    "            raw_table.append([\"Baseline\",round(np.mean(base_resids),3), round(base_std,3), round(base_mape,3), round(base_mse,3), round(base_mae,3)])\n",
    "            raw_table.append([\"Multistage One\",round(np.mean(multiOne_resids),3), round(multiOne_std,3), round(multiOne_mape,3), round(multiOne_mse,3), round(multiOne_mae,3)])\n",
    "            raw_table.append([\"Multistage All\",round(np.mean(multiAll_resids),3), round(multiAll_std,3), round(multiAll_mape,3), round(multiAll_mse,3), round(multiAll_mae,3)])\n",
    "            print(\"\\n================\\nMULTISTAGE\\n===============\\n\")\n",
    "            create_latex_table(raw_table)\n",
    "            print(\"\\n================\\n\")\n",
    "          #####################\n",
    "\n",
    "            # Standard Dev\n",
    "            base_std = get_std(base_resids)\n",
    "            single_std = get_std(single_resids)\n",
    "\n",
    "            # MAPE\n",
    "            base_mape = get_mape(base_true, base_pred)\n",
    "            single_mape = get_mape(single_true, single_pred)\n",
    "\n",
    "            # MSE\n",
    "            base_mse = get_mse(base_true, base_pred)\n",
    "            single_mse = get_mse(single_true, single_pred)\n",
    "\n",
    "            # MAE\n",
    "            base_mae = get_mae(base_true, base_pred)\n",
    "            single_mae = get_mae(single_true, single_pred)\n",
    "\n",
    "            # Table of metrics\n",
    "            table = PrettyTable([\"Model\", \"Mean Resids (Mbps)\", \" Resids std (Mbps)\", \"MAPE\", \"MSE\", \"MAE\"])\n",
    "            table.add_row([\"Baseline\",np.mean(base_resids), base_std, base_mape, base_mse, base_mae])\n",
    "            table.add_row([\"{} Only\".format(dataset),np.mean(single_resids), single_std, single_mape, single_mse, single_mae])\n",
    "            print(\"Residuals of {} Sequences Test Set\".format(dataset))\n",
    "            #print(table)\n",
    "            \n",
    "            # Latex\n",
    "            raw_table = []\n",
    "            raw_table.append([\"Baseline\",round(np.mean(base_resids),3), round(base_std,3), round(base_mape,3), round(base_mse,3), round(base_mae,3)])\n",
    "            raw_table.append([\"{} Only\".format(dataset),round(np.mean(single_resids),3), round(single_std,3), round(single_mape,3), round(single_mse,3), round(single_mae,3)])\n",
    "            create_latex_table(raw_table)\n",
    "\n",
    "    true, pred = import_data(model_name=\"{}_multiOne_classifier\".format(prefix))\n",
    "    true = np.argmax(true, axis=-1)\n",
    "    pred = np.argmax(pred, axis=-1)\n",
    "    conf_matrix = confusion_matrix(true, pred)\n",
    "    # create a dictionary to map class names\n",
    "    class_names = {0: \"low\", 1: \"medium\", 2: \"high\"}\n",
    "\n",
    "    # map the class names\n",
    "    true_names = [class_names[x] for x in true]\n",
    "    pred_names = [class_names[x] for x in pred]\n",
    "    report = classification_report(true_names, pred_names, labels=[\"low\", \"medium\", \"high\"])\n",
    "    print(\"Classification Report:\\n\",report)\n",
    "    display_conf = ConfusionMatrixDisplay(conf_matrix, display_labels=[\"Low\", \"Medium\", \"High\"])\n",
    "    display_conf.plot(cmap=\"Oranges\")\n",
    "    plt.savefig(IMAGES_OUTPUT_FOLDER+\"{} Confusion Matrix\".format(title_prefix), dpi=300, bbox_inches='tight')\n",
    "    plt.show()"
   ]
  },
  {
   "attachments": {},
   "cell_type": "markdown",
   "metadata": {},
   "source": [
    "## Analysis"
   ]
  },
  {
   "cell_type": "code",
   "execution_count": null,
   "metadata": {},
   "outputs": [],
   "source": [
    "carry_out_analysis(\"constraint_1_5\", \"Size Constraint of 1 and a half MB\")"
   ]
  },
  {
   "cell_type": "code",
   "execution_count": null,
   "metadata": {},
   "outputs": [],
   "source": [
    "carry_out_analysis(\"constraint_3\", \"Constraint 3Mb\")"
   ]
  },
  {
   "cell_type": "code",
   "execution_count": null,
   "metadata": {},
   "outputs": [],
   "source": [
    "carry_out_analysis(\"constraint_1_5\", \"Size Constaint 1_5Mb\")"
   ]
  },
  {
   "cell_type": "code",
   "execution_count": null,
   "metadata": {},
   "outputs": [],
   "source": [
    "carry_out_analysis(\"H15H5\", \"H15H5\")"
   ]
  },
  {
   "attachments": {},
   "cell_type": "markdown",
   "metadata": {},
   "source": [
    "# Classifier Error Analysis"
   ]
  },
  {
   "attachments": {},
   "cell_type": "markdown",
   "metadata": {},
   "source": [
    "### Univariate"
   ]
  },
  {
   "cell_type": "code",
   "execution_count": 16,
   "metadata": {},
   "outputs": [
    {
     "name": "stdout",
     "output_type": "stream",
     "text": [
      "Classification Report:\n",
      "               precision    recall  f1-score   support\n",
      "\n",
      "         low       0.75      0.84      0.79      3995\n",
      "      medium       0.74      0.74      0.74      7991\n",
      "        high       0.92      0.90      0.91     14657\n",
      "\n",
      "    accuracy                           0.84     26643\n",
      "   macro avg       0.81      0.82      0.81     26643\n",
      "weighted avg       0.84      0.84      0.84     26643\n",
      "\n"
     ]
    }
   ],
   "source": [
    "true, pred = import_data(model_name=\"univariate_multiAll_classifier\")\n",
    "true = np.argmax(true, axis=-1)\n",
    "pred = np.argmax(pred, axis=-1)\n",
    "conf_matrix = confusion_matrix(true, pred)\n",
    "# create a dictionary to map class names\n",
    "class_names = {0: \"low\", 1: \"medium\", 2: \"high\"}\n",
    "# map the class names\n",
    "true_names = [class_names[x] for x in true]\n",
    "pred_names = [class_names[x] for x in pred]\n",
    "report = classification_report(true_names, pred_names, labels=[\"low\", \"medium\", \"high\"])\n",
    "print(\"Classification Report:\\n\",report)"
   ]
  },
  {
   "cell_type": "code",
   "execution_count": 17,
   "metadata": {},
   "outputs": [],
   "source": [
    "x = np.load(\"C:/Users/Killian/Desktop/FYP-Multistage-Throughput-Predictor/Datasets/Testing/univariate_classifier_test_x.npy\")\n",
    "y = np.load(\"C:/Users/Killian/Desktop/FYP-Multistage-Throughput-Predictor/Datasets/Testing/univariate_test_y.npy\")"
   ]
  },
  {
   "cell_type": "code",
   "execution_count": 19,
   "metadata": {},
   "outputs": [],
   "source": [
    "df = pd.DataFrame()\n",
    "df[\"true\"] = true_names\n",
    "df[\"pred\"] = pred_names"
   ]
  },
  {
   "cell_type": "code",
   "execution_count": 36,
   "metadata": {},
   "outputs": [
    {
     "name": "stdout",
     "output_type": "stream",
     "text": [
      "[[ 3344   632    19]\n",
      " [ 1010  5924  1057]\n",
      " [   94  1438 13125]]\n"
     ]
    }
   ],
   "source": [
    "print(conf_matrix)"
   ]
  },
  {
   "cell_type": "code",
   "execution_count": 20,
   "metadata": {},
   "outputs": [],
   "source": [
    "low_as_med = df[(df[\"true\"]==\"low\") & (df[\"pred\"]==\"medium\")].index.to_list()\n",
    "med_as_low = df[(df[\"true\"]==\"medium\") & (df[\"pred\"]==\"low\")].index.to_list()\n",
    "low_med_boundary = low_as_med + med_as_low"
   ]
  },
  {
   "cell_type": "code",
   "execution_count": 51,
   "metadata": {},
   "outputs": [],
   "source": [
    "tp_low_med_boundary = y[low_med_boundary,:]\n",
    "tp_low_med_boundary = tp_low_med_boundary/1024\n",
    "low_med_bound_means = np.mean(tp_low_med_boundary, axis=1)\n",
    "low_med_bound_std = np.std(tp_low_med_boundary, axis=1)\n",
    "mean_val = [np.mean(low_med_bound_means)]*(low_med_bound_means.shape[0])\n",
    "plt.plot(low_med_bound_means)\n",
    "plt.plot(mean_val, color=\"red\")"
   ]
  },
  {
   "cell_type": "code",
   "execution_count": 61,
   "metadata": {},
   "outputs": [],
   "source": [
    "mean_val = [np.mean(low_med_bound_means)]*(low_med_bound_means.shape[0])\n",
    "plt.plot(low_med_bound_means)\n",
    "plt.plot(mean_val, color=\"red\")"
   ]
  },
  {
   "cell_type": "code",
   "execution_count": 62,
   "metadata": {},
   "outputs": [
    {
     "data": {
      "text/plain": [
       "[<matplotlib.lines.Line2D at 0x23e845654f0>]"
      ]
     },
     "execution_count": 62,
     "metadata": {},
     "output_type": "execute_result"
    },
    {
     "data": {
      "image/png": "[encoded data removed]",
      "text/plain": [
       "<Figure size 640x480 with 1 Axes>"
      ]
     },
     "metadata": {},
     "output_type": "display_data"
    }
   ],
   "source": [
    "plt.plot(low_med_bound_means)\n",
    "plt.plot(mean_val, color=\"red\")"
   ]
  },
  {
   "cell_type": "code",
   "execution_count": 31,
   "metadata": {},
   "outputs": [
    {
     "data": {
      "text/plain": [
       "[<matplotlib.lines.Line2D at 0x1503af862b0>]"
      ]
     },
     "execution_count": 31,
     "metadata": {},
     "output_type": "execute_result"
    },
    {
     "data": {
      "image/png": "[encoded data removed]",
      "text/plain": [
       "<Figure size 640x480 with 1 Axes>"
      ]
     },
     "metadata": {},
     "output_type": "display_data"
    }
   ],
   "source": [
    "low_bound = y[low_as_med,:]/1024\n",
    "low_mean = np.mean(low_bound)\n",
    "low_std = np.std(low_bound)\n",
    "mean_vector = [low_mean]*low_bound.shape[0]\n",
    "std_vector = [low_std]*low_bound.shape[0]\n",
    "std_vector_up = [low_std+low_mean]*low_bound.shape[0]\n",
    "std_vector_down = [low_mean-low_std]*low_bound.shape[0]\n",
    "plt.ylim(0,1.4)\n",
    "plt.plot([1]*low_bound.shape[0], linestyle=\"-\", color=\"blue\")\n",
    "plt.plot(mean_vector, color=\"red\")\n",
    "plt.plot(std_vector_up, linestyle=\"--\", color=\"red\")\n",
    "plt.plot(std_vector_down, linestyle=\"--\", color=\"red\")"
   ]
  },
  {
   "cell_type": "code",
   "execution_count": 33,
   "metadata": {},
   "outputs": [
    {
     "data": {
      "text/plain": [
       "[<matplotlib.lines.Line2D at 0x1503afa5c10>]"
      ]
     },
     "execution_count": 33,
     "metadata": {},
     "output_type": "execute_result"
    },
    {
     "data": {
      "image/png": "[encoded data removed]",
      "text/plain": [
       "<Figure size 640x480 with 1 Axes>"
      ]
     },
     "metadata": {},
     "output_type": "display_data"
    }
   ],
   "source": [
    "med_bound = y[med_as_low,:]/1024\n",
    "med_mean = np.mean(med_bound)\n",
    "med_std = np.std(med_bound)\n",
    "mean_vector = [med_mean]*med_bound.shape[0]\n",
    "std_vector = [med_std]*med_bound.shape[0]\n",
    "std_vector_up = [med_std+med_mean]*med_bound.shape[0]\n",
    "std_vector_down = [med_mean-med_std]*med_bound.shape[0]\n",
    "#plt.ylim(0,1.4)\n",
    "plt.plot([1]*med_bound.shape[0], linestyle=\"-\", color=\"blue\")\n",
    "plt.plot(mean_vector, color=\"red\")\n",
    "plt.plot(std_vector_up, linestyle=\"--\", color=\"red\")\n",
    "plt.plot(std_vector_down, linestyle=\"--\", color=\"red\")"
   ]
  },
  {
   "cell_type": "code",
   "execution_count": 2,
   "metadata": {},
   "outputs": [
    {
     "name": "stderr",
     "output_type": "stream",
     "text": [
      "WARNING:absl:Found untraced functions such as lstm_cell_3_layer_call_fn, lstm_cell_3_layer_call_and_return_conditional_losses, lstm_cell_4_layer_call_fn, lstm_cell_4_layer_call_and_return_conditional_losses, lstm_cell_5_layer_call_fn while saving (showing 5 of 6). These functions will not be directly callable after loading.\n"
     ]
    },
    {
     "name": "stdout",
     "output_type": "stream",
     "text": [
      "INFO:tensorflow:Assets written to: C:\\Users\\Killian\\AppData\\Local\\Temp\\tmpzll0onz2\\assets\n"
     ]
    },
    {
     "name": "stderr",
     "output_type": "stream",
     "text": [
      "INFO:tensorflow:Assets written to: C:\\Users\\Killian\\AppData\\Local\\Temp\\tmpzll0onz2\\assets\n"
     ]
    },
    {
     "ename": "ConverterError",
     "evalue": "c:\\Users\\Killian\\miniconda3\\envs\\tf\\lib\\site-packages\\tensorflow\\python\\saved_model\\save.py:1268:0: error: 'tf.TensorListReserve' op requires element_shape to be static during TF Lite transformation pass\n<unknown>:0: note: loc(fused[\"StatefulPartitionedCall:\", \"StatefulPartitionedCall\"]): called from\nc:\\Users\\Killian\\miniconda3\\envs\\tf\\lib\\site-packages\\tensorflow\\python\\saved_model\\save.py:1268:0: error: failed to legalize operation 'tf.TensorListReserve' that was explicitly marked illegal\n<unknown>:0: note: loc(fused[\"StatefulPartitionedCall:\", \"StatefulPartitionedCall\"]): called from\n<unknown>:0: error: Lowering tensor list ops is failed. Please consider using Select TF ops and disabling `_experimental_lower_tensor_list_ops` flag in the TFLite converter object. For example, converter.target_spec.supported_ops = [tf.lite.OpsSet.TFLITE_BUILTINS, tf.lite.OpsSet.SELECT_TF_OPS]\\n converter._experimental_lower_tensor_list_ops = False\n",
     "output_type": "error",
     "traceback": [
      "\u001b[1;31m---------------------------------------------------------------------------\u001b[0m",
      "\u001b[1;31mConverterError\u001b[0m                            Traceback (most recent call last)",
      "Cell \u001b[1;32mIn[2], line 5\u001b[0m\n\u001b[0;32m      3\u001b[0m model \u001b[39m=\u001b[39m tf\u001b[39m.\u001b[39mkeras\u001b[39m.\u001b[39mmodels\u001b[39m.\u001b[39mload_model(\u001b[39m\"\u001b[39m\u001b[39mC:/Users/Killian/Desktop/FYP-Multistage-Throughput-Predictor/src/saved.objects/univariate_baseline.hdf5\u001b[39m\u001b[39m\"\u001b[39m)\n\u001b[0;32m      4\u001b[0m converter \u001b[39m=\u001b[39m tf\u001b[39m.\u001b[39mlite\u001b[39m.\u001b[39mTFLiteConverter\u001b[39m.\u001b[39mfrom_keras_model(model)\n\u001b[1;32m----> 5\u001b[0m tflite_model \u001b[39m=\u001b[39m converter\u001b[39m.\u001b[39;49mconvert()\n",
      "File \u001b[1;32mc:\\Users\\Killian\\miniconda3\\envs\\tf\\lib\\site-packages\\tensorflow\\lite\\python\\lite.py:930\u001b[0m, in \u001b[0;36m_export_metrics.<locals>.wrapper\u001b[1;34m(self, *args, **kwargs)\u001b[0m\n\u001b[0;32m    927\u001b[0m \u001b[39m@functools\u001b[39m\u001b[39m.\u001b[39mwraps(convert_func)\n\u001b[0;32m    928\u001b[0m \u001b[39mdef\u001b[39;00m \u001b[39mwrapper\u001b[39m(\u001b[39mself\u001b[39m, \u001b[39m*\u001b[39margs, \u001b[39m*\u001b[39m\u001b[39m*\u001b[39mkwargs):\n\u001b[0;32m    929\u001b[0m   \u001b[39m# pylint: disable=protected-access\u001b[39;00m\n\u001b[1;32m--> 930\u001b[0m   \u001b[39mreturn\u001b[39;00m \u001b[39mself\u001b[39m\u001b[39m.\u001b[39m_convert_and_export_metrics(convert_func, \u001b[39m*\u001b[39margs, \u001b[39m*\u001b[39m\u001b[39m*\u001b[39mkwargs)\n",
      "File \u001b[1;32mc:\\Users\\Killian\\miniconda3\\envs\\tf\\lib\\site-packages\\tensorflow\\lite\\python\\lite.py:908\u001b[0m, in \u001b[0;36mTFLiteConverterBase._convert_and_export_metrics\u001b[1;34m(self, convert_func, *args, **kwargs)\u001b[0m\n\u001b[0;32m    906\u001b[0m \u001b[39mself\u001b[39m\u001b[39m.\u001b[39m_save_conversion_params_metric()\n\u001b[0;32m    907\u001b[0m start_time \u001b[39m=\u001b[39m time\u001b[39m.\u001b[39mprocess_time()\n\u001b[1;32m--> 908\u001b[0m result \u001b[39m=\u001b[39m convert_func(\u001b[39mself\u001b[39m, \u001b[39m*\u001b[39margs, \u001b[39m*\u001b[39m\u001b[39m*\u001b[39mkwargs)\n\u001b[0;32m    909\u001b[0m elapsed_time_ms \u001b[39m=\u001b[39m (time\u001b[39m.\u001b[39mprocess_time() \u001b[39m-\u001b[39m start_time) \u001b[39m*\u001b[39m \u001b[39m1000\u001b[39m\n\u001b[0;32m    910\u001b[0m \u001b[39mif\u001b[39;00m result:\n",
      "File \u001b[1;32mc:\\Users\\Killian\\miniconda3\\envs\\tf\\lib\\site-packages\\tensorflow\\lite\\python\\lite.py:1339\u001b[0m, in \u001b[0;36mTFLiteKerasModelConverterV2.convert\u001b[1;34m(self)\u001b[0m\n\u001b[0;32m   1326\u001b[0m \u001b[39m@_export_metrics\u001b[39m\n\u001b[0;32m   1327\u001b[0m \u001b[39mdef\u001b[39;00m \u001b[39mconvert\u001b[39m(\u001b[39mself\u001b[39m):\n\u001b[0;32m   1328\u001b[0m   \u001b[39m\"\"\"Converts a keras model based on instance variables.\u001b[39;00m\n\u001b[0;32m   1329\u001b[0m \n\u001b[0;32m   1330\u001b[0m \u001b[39m  Returns:\u001b[39;00m\n\u001b[1;32m   (...)\u001b[0m\n\u001b[0;32m   1337\u001b[0m \u001b[39m      Invalid quantization parameters.\u001b[39;00m\n\u001b[0;32m   1338\u001b[0m \u001b[39m  \"\"\"\u001b[39;00m\n\u001b[1;32m-> 1339\u001b[0m   saved_model_convert_result \u001b[39m=\u001b[39m \u001b[39mself\u001b[39;49m\u001b[39m.\u001b[39;49m_convert_as_saved_model()\n\u001b[0;32m   1340\u001b[0m   \u001b[39mif\u001b[39;00m saved_model_convert_result:\n\u001b[0;32m   1341\u001b[0m     \u001b[39mreturn\u001b[39;00m saved_model_convert_result\n",
      "File \u001b[1;32mc:\\Users\\Killian\\miniconda3\\envs\\tf\\lib\\site-packages\\tensorflow\\lite\\python\\lite.py:1321\u001b[0m, in \u001b[0;36mTFLiteKerasModelConverterV2._convert_as_saved_model\u001b[1;34m(self)\u001b[0m\n\u001b[0;32m   1318\u001b[0m   graph_def, input_tensors, output_tensors \u001b[39m=\u001b[39m (\n\u001b[0;32m   1319\u001b[0m       \u001b[39mself\u001b[39m\u001b[39m.\u001b[39m_convert_keras_to_saved_model(temp_dir))\n\u001b[0;32m   1320\u001b[0m   \u001b[39mif\u001b[39;00m \u001b[39mself\u001b[39m\u001b[39m.\u001b[39msaved_model_dir:\n\u001b[1;32m-> 1321\u001b[0m     \u001b[39mreturn\u001b[39;00m \u001b[39msuper\u001b[39;49m(TFLiteKerasModelConverterV2,\n\u001b[0;32m   1322\u001b[0m                  \u001b[39mself\u001b[39;49m)\u001b[39m.\u001b[39;49mconvert(graph_def, input_tensors, output_tensors)\n\u001b[0;32m   1323\u001b[0m \u001b[39mfinally\u001b[39;00m:\n\u001b[0;32m   1324\u001b[0m   shutil\u001b[39m.\u001b[39mrmtree(temp_dir, \u001b[39mTrue\u001b[39;00m)\n",
      "File \u001b[1;32mc:\\Users\\Killian\\miniconda3\\envs\\tf\\lib\\site-packages\\tensorflow\\lite\\python\\lite.py:1132\u001b[0m, in \u001b[0;36mTFLiteConverterBaseV2.convert\u001b[1;34m(self, graph_def, input_tensors, output_tensors)\u001b[0m\n\u001b[0;32m   1127\u001b[0m   logging\u001b[39m.\u001b[39minfo(\u001b[39m\"\u001b[39m\u001b[39mUsing new converter: If you encounter a problem \u001b[39m\u001b[39m\"\u001b[39m\n\u001b[0;32m   1128\u001b[0m                \u001b[39m\"\u001b[39m\u001b[39mplease file a bug. You can opt-out \u001b[39m\u001b[39m\"\u001b[39m\n\u001b[0;32m   1129\u001b[0m                \u001b[39m\"\u001b[39m\u001b[39mby setting experimental_new_converter=False\u001b[39m\u001b[39m\"\u001b[39m)\n\u001b[0;32m   1131\u001b[0m \u001b[39m# Converts model.\u001b[39;00m\n\u001b[1;32m-> 1132\u001b[0m result \u001b[39m=\u001b[39m _convert_graphdef(\n\u001b[0;32m   1133\u001b[0m     input_data\u001b[39m=\u001b[39mgraph_def,\n\u001b[0;32m   1134\u001b[0m     input_tensors\u001b[39m=\u001b[39minput_tensors,\n\u001b[0;32m   1135\u001b[0m     output_tensors\u001b[39m=\u001b[39moutput_tensors,\n\u001b[0;32m   1136\u001b[0m     \u001b[39m*\u001b[39m\u001b[39m*\u001b[39mconverter_kwargs)\n\u001b[0;32m   1138\u001b[0m \u001b[39mreturn\u001b[39;00m \u001b[39mself\u001b[39m\u001b[39m.\u001b[39m_optimize_tflite_model(\n\u001b[0;32m   1139\u001b[0m     result, \u001b[39mself\u001b[39m\u001b[39m.\u001b[39m_quant_mode, quant_io\u001b[39m=\u001b[39m\u001b[39mself\u001b[39m\u001b[39m.\u001b[39mexperimental_new_quantizer)\n",
      "File \u001b[1;32mc:\\Users\\Killian\\miniconda3\\envs\\tf\\lib\\site-packages\\tensorflow\\lite\\python\\convert_phase.py:212\u001b[0m, in \u001b[0;36mconvert_phase.<locals>.actual_decorator.<locals>.wrapper\u001b[1;34m(*args, **kwargs)\u001b[0m\n\u001b[0;32m    210\u001b[0m   \u001b[39melse\u001b[39;00m:\n\u001b[0;32m    211\u001b[0m     report_error_message(\u001b[39mstr\u001b[39m(converter_error))\n\u001b[1;32m--> 212\u001b[0m   \u001b[39mraise\u001b[39;00m converter_error \u001b[39mfrom\u001b[39;00m \u001b[39mNone\u001b[39m  \u001b[39m# Re-throws the exception.\u001b[39;00m\n\u001b[0;32m    213\u001b[0m \u001b[39mexcept\u001b[39;00m \u001b[39mException\u001b[39;00m \u001b[39mas\u001b[39;00m error:\n\u001b[0;32m    214\u001b[0m   report_error_message(\u001b[39mstr\u001b[39m(error))\n",
      "File \u001b[1;32mc:\\Users\\Killian\\miniconda3\\envs\\tf\\lib\\site-packages\\tensorflow\\lite\\python\\convert_phase.py:205\u001b[0m, in \u001b[0;36mconvert_phase.<locals>.actual_decorator.<locals>.wrapper\u001b[1;34m(*args, **kwargs)\u001b[0m\n\u001b[0;32m    202\u001b[0m \u001b[39m@functools\u001b[39m\u001b[39m.\u001b[39mwraps(func)\n\u001b[0;32m    203\u001b[0m \u001b[39mdef\u001b[39;00m \u001b[39mwrapper\u001b[39m(\u001b[39m*\u001b[39margs, \u001b[39m*\u001b[39m\u001b[39m*\u001b[39mkwargs):\n\u001b[0;32m    204\u001b[0m   \u001b[39mtry\u001b[39;00m:\n\u001b[1;32m--> 205\u001b[0m     \u001b[39mreturn\u001b[39;00m func(\u001b[39m*\u001b[39margs, \u001b[39m*\u001b[39m\u001b[39m*\u001b[39mkwargs)\n\u001b[0;32m    206\u001b[0m   \u001b[39mexcept\u001b[39;00m ConverterError \u001b[39mas\u001b[39;00m converter_error:\n\u001b[0;32m    207\u001b[0m     \u001b[39mif\u001b[39;00m converter_error\u001b[39m.\u001b[39merrors:\n",
      "File \u001b[1;32mc:\\Users\\Killian\\miniconda3\\envs\\tf\\lib\\site-packages\\tensorflow\\lite\\python\\convert.py:794\u001b[0m, in \u001b[0;36mconvert_graphdef\u001b[1;34m(input_data, input_tensors, output_tensors, **kwargs)\u001b[0m\n\u001b[0;32m    791\u001b[0m   \u001b[39melse\u001b[39;00m:\n\u001b[0;32m    792\u001b[0m     model_flags\u001b[39m.\u001b[39moutput_arrays\u001b[39m.\u001b[39mappend(util\u001b[39m.\u001b[39mget_tensor_name(output_tensor))\n\u001b[1;32m--> 794\u001b[0m data \u001b[39m=\u001b[39m convert(\n\u001b[0;32m    795\u001b[0m     model_flags\u001b[39m.\u001b[39;49mSerializeToString(),\n\u001b[0;32m    796\u001b[0m     conversion_flags\u001b[39m.\u001b[39;49mSerializeToString(),\n\u001b[0;32m    797\u001b[0m     input_data\u001b[39m.\u001b[39;49mSerializeToString(),\n\u001b[0;32m    798\u001b[0m     debug_info_str\u001b[39m=\u001b[39;49mdebug_info\u001b[39m.\u001b[39;49mSerializeToString() \u001b[39mif\u001b[39;49;00m debug_info \u001b[39melse\u001b[39;49;00m \u001b[39mNone\u001b[39;49;00m,\n\u001b[0;32m    799\u001b[0m     enable_mlir_converter\u001b[39m=\u001b[39;49menable_mlir_converter)\n\u001b[0;32m    800\u001b[0m \u001b[39mreturn\u001b[39;00m data\n",
      "File \u001b[1;32mc:\\Users\\Killian\\miniconda3\\envs\\tf\\lib\\site-packages\\tensorflow\\lite\\python\\convert.py:311\u001b[0m, in \u001b[0;36mconvert\u001b[1;34m(model_flags_str, conversion_flags_str, input_data_str, debug_info_str, enable_mlir_converter)\u001b[0m\n\u001b[0;32m    309\u001b[0m     \u001b[39mfor\u001b[39;00m error_data \u001b[39min\u001b[39;00m _metrics_wrapper\u001b[39m.\u001b[39mretrieve_collected_errors():\n\u001b[0;32m    310\u001b[0m       converter_error\u001b[39m.\u001b[39mappend_error(error_data)\n\u001b[1;32m--> 311\u001b[0m     \u001b[39mraise\u001b[39;00m converter_error\n\u001b[0;32m    313\u001b[0m \u001b[39mreturn\u001b[39;00m _run_deprecated_conversion_binary(model_flags_str,\n\u001b[0;32m    314\u001b[0m                                          conversion_flags_str, input_data_str,\n\u001b[0;32m    315\u001b[0m                                          debug_info_str)\n",
      "\u001b[1;31mConverterError\u001b[0m: c:\\Users\\Killian\\miniconda3\\envs\\tf\\lib\\site-packages\\tensorflow\\python\\saved_model\\save.py:1268:0: error: 'tf.TensorListReserve' op requires element_shape to be static during TF Lite transformation pass\n<unknown>:0: note: loc(fused[\"StatefulPartitionedCall:\", \"StatefulPartitionedCall\"]): called from\nc:\\Users\\Killian\\miniconda3\\envs\\tf\\lib\\site-packages\\tensorflow\\python\\saved_model\\save.py:1268:0: error: failed to legalize operation 'tf.TensorListReserve' that was explicitly marked illegal\n<unknown>:0: note: loc(fused[\"StatefulPartitionedCall:\", \"StatefulPartitionedCall\"]): called from\n<unknown>:0: error: Lowering tensor list ops is failed. Please consider using Select TF ops and disabling `_experimental_lower_tensor_list_ops` flag in the TFLite converter object. For example, converter.target_spec.supported_ops = [tf.lite.OpsSet.TFLITE_BUILTINS, tf.lite.OpsSet.SELECT_TF_OPS]\\n converter._experimental_lower_tensor_list_ops = False\n"
     ]
    }
   ],
   "source": [
    "import tensorflow as tf\n",
    "# Convert the model\n",
    "model = tf.keras.models.load_model(\"C:/Users/Killian/Desktop/FYP-Multistage-Throughput-Predictor/src/saved.objects/univariate_baseline.hdf5\")\n",
    "converter = tf.lite.TFLiteConverter.from_keras_model(model)\n",
    "tflite_model = converter.convert()"
   ]
  }
 ],
 "metadata": {
  "kernelspec": {
   "display_name": "tf",
   "language": "python",
   "name": "python3"
  },
  "language_info": {
   "codemirror_mode": {
    "name": "ipython",
    "version": 3
   },
   "file_extension": ".py",
   "mimetype": "text/x-python",
   "name": "python",
   "nbconvert_exporter": "python",
   "pygments_lexer": "ipython3",
   "version": "3.9.15"
  },
  "orig_nbformat": 4,
  "vscode": {
   "interpreter": {
    "hash": "8a0f0acd0089a531616946ee2a9708cd6d3e1ac7fcc3f79f44e37592fb92385f"
   }
  }
 },
 "nbformat": 4,
 "nbformat_minor": 2
}
