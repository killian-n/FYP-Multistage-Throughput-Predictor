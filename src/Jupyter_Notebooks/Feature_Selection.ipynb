{
 "cells": [
  {
   "cell_type": "code",
   "execution_count": null,
   "metadata": {},
   "outputs": [],
   "source": [
    "import numpy as np\n",
    "import pandas as pd\n",
    "import configparser\n",
    "import sys\n",
    "import tensorflow as tf\n",
    "config = configparser.ConfigParser()\n",
    "config.read('project.env')\n",
    "module_path = config['global']['MODULE_PATH']\n",
    "sys.path.append(module_path)"
   ]
  },
  {
   "cell_type": "code",
   "execution_count": null,
   "metadata": {},
   "outputs": [],
   "source": [
    "from trained_models.baseline import TrainedBaseline"
   ]
  },
  {
   "cell_type": "code",
   "execution_count": null,
   "metadata": {},
   "outputs": [],
   "source": [
    "data_prefix = \"all_data\"\n",
    "model_prefix = \"standardised_all_data\"\n",
    "###########\n",
    "# DATASETS\n",
    "###########\n",
    "test_dir_path = config[\"global\"][\"TESTING_DATASETS_PATH\"]\n",
    "if test_dir_path[-1] not in [\"\\\\\", \"/\"]:\n",
    "    test_dir_path += \"/\"\n",
    "\n",
    "saved_objects_dir_path = config[\"global\"][\"SAVED_OBJECTS_PATH\"]\n",
    "if saved_objects_dir_path[-1] not in [\"\\\\\", \"/\"]:\n",
    "    saved_objects_dir_path += \"/\"\n",
    "# All\n",
    "test_x = np.load(\"{}{}_test_x.npy\".format(test_dir_path, data_prefix))\n",
    "test_y = np.load(\"{}{}_test_y.npy\".format(test_dir_path, data_prefix))\n",
    "# Low\n",
    "low_test_x = np.load(\"{}{}_low_test_x.npy\".format(test_dir_path, data_prefix))\n",
    "low_test_y = np.load(\"{}{}_low_test_y.npy\".format(test_dir_path, data_prefix))\n",
    "# Medium\n",
    "medium_test_x = np.load(\"{}{}_medium_test_x.npy\".format(test_dir_path, data_prefix))\n",
    "medium_test_y = np.load(\"{}{}_medium_test_y.npy\".format(test_dir_path, data_prefix))\n",
    "# High\n",
    "high_test_x = np.load(\"{}{}_high_test_x.npy\".format(test_dir_path, data_prefix))\n",
    "high_test_y = np.load(\"{}{}_high_test_y.npy\".format(test_dir_path, data_prefix))\n",
    "model = TrainedBaseline(\"{}_baseline\".format(model_prefix))\n",
    "model.set_scaler(\"{}{}_scaler.sav\".format(saved_objects_dir_path, data_prefix))\n",
    "model.set_model(tf.keras.models.load_model(\"{}{}_baseline.hdf5\".format(saved_objects_dir_path, model_prefix)))"
   ]
  },
  {
   "cell_type": "code",
   "execution_count": null,
   "metadata": {},
   "outputs": [],
   "source": [
    "from tqdm import tqdm\n",
    "from matplotlib import pyplot as plt"
   ]
  },
  {
   "cell_type": "code",
   "execution_count": null,
   "metadata": {},
   "outputs": [],
   "source": [
    "x, y = test_x, test_y\n",
    "features = model.get_scaler().get_feature_names_out()"
   ]
  },
  {
   "cell_type": "code",
   "execution_count": null,
   "metadata": {},
   "outputs": [],
   "source": [
    "k = model.predict(x)\n",
    "print(k[1])\n",
    "print(y[1])"
   ]
  },
  {
   "cell_type": "code",
   "execution_count": null,
   "metadata": {},
   "outputs": [],
   "source": [
    "def get_mape(true, predicted, epsilon=50):\n",
    "    denominator = np.squeeze(true) + epsilon\n",
    "    try:\n",
    "        mape = np.mean(np.abs((np.squeeze(true) - predicted)/denominator))*100\n",
    "    except Exception as e:\n",
    "        print(e)\n",
    "        mape = \"n/a\"\n",
    "    return mape"
   ]
  },
  {
   "cell_type": "code",
   "execution_count": null,
   "metadata": {},
   "outputs": [],
   "source": [
    "def get_mse(true, predicted):\n",
    "    mse = np.mean(np.power(np.squeeze(true)-predicted, 2))\n",
    "    return mse"
   ]
  },
  {
   "cell_type": "code",
   "execution_count": null,
   "metadata": {},
   "outputs": [],
   "source": [
    "def get_mae(true, predicted):\n",
    "    mae = np.mean(np.abs(np.squeeze(true)-predicted))\n",
    "    return mae"
   ]
  },
  {
   "cell_type": "code",
   "execution_count": null,
   "metadata": {},
   "outputs": [],
   "source": [
    "results = []\n",
    "print(\"Computing feature importance\")\n",
    "\n",
    "baseline_preds = model.predict(x)\n",
    "baseline_mape = get_mape(y, baseline_preds)\n",
    "baseline_mse = get_mse(y, baseline_preds)\n",
    "baseline_mae = get_mae(y, baseline_preds)\n",
    "results.append({\"feature\":\"BASELINE\", \"mape\":baseline_mape, \"mse\":baseline_mse, \"mae\":baseline_mae})\n",
    "\n",
    "for k in tqdm(range(x.shape[2])):\n",
    "    sav_col = x[:,:,k].copy()\n",
    "    np.random.shuffle(x[:,:,k])\n",
    "    important_preds = model.predict(x)\n",
    "    mape = get_mape(y, important_preds)\n",
    "    mse = get_mse(y, important_preds)\n",
    "    mae = get_mae(y, important_preds)\n",
    "    results.append({\"feature\":features[k], \"mape\": mape, \"mse\": mse, \"mae\":mae})\n",
    "    x[:,:,k] = sav_col\n",
    "\n",
    "result_df = pd.DataFrame(results)"
   ]
  },
  {
   "cell_type": "code",
   "execution_count": null,
   "metadata": {},
   "outputs": [],
   "source": [
    "result_df = result_df.sort_values(\"mape\")\n",
    "plt.figure(figsize=(10,20))\n",
    "plt.barh(np.arange(len(features)+1),result_df.mape)\n",
    "plt.yticks(np.arange(len(features)+1),result_df.feature.values)\n",
    "plt.title('Feature Importance',size=16)\n",
    "plt.ylim((-1,len(features)+1))\n",
    "plt.plot([baseline_mape,baseline_mape],[-1,len(features)+1], '--', color='orange',\n",
    "            label=f'Baseline OOF\\nMAPE={baseline_mape:.3f}')\n",
    "plt.xlabel('MAPE',size=14)\n",
    "plt.ylabel('Feature',size=14)\n",
    "plt.legend()\n",
    "plt.show()"
   ]
  },
  {
   "cell_type": "code",
   "execution_count": null,
   "metadata": {},
   "outputs": [],
   "source": [
    "result_df = result_df.sort_values(\"mse\")\n",
    "plt.figure(figsize=(10,20))\n",
    "plt.barh(np.arange(len(features)+1),result_df.mse)\n",
    "plt.yticks(np.arange(len(features)+1),result_df.feature.values)\n",
    "plt.title('LSTM Feature Importance',size=16)\n",
    "plt.ylim((-1,len(features)+1))\n",
    "plt.plot([baseline_mse,baseline_mse],[-1,len(features)+1], '--', color='orange',\n",
    "            label=f'Baseline OOF\\nmse={baseline_mse:.3f}')\n",
    "plt.xlabel('Test mse with feature permuted',size=14)\n",
    "plt.ylabel('Feature',size=14)\n",
    "plt.legend()\n",
    "plt.show()"
   ]
  },
  {
   "cell_type": "code",
   "execution_count": null,
   "metadata": {},
   "outputs": [],
   "source": [
    "result_df = result_df.sort_values(\"mae\")\n",
    "plt.figure(figsize=(10,20))\n",
    "plt.barh(np.arange(len(features)+1),result_df.mae)\n",
    "plt.yticks(np.arange(len(features)+1),result_df.feature.values)\n",
    "plt.title('LSTM Feature Importance',size=16)\n",
    "plt.ylim((-1,len(features)+1))\n",
    "plt.plot([baseline_mae,baseline_mae],[-1,len(features)+1], '--', color='orange',\n",
    "            label=f'Baseline OOF\\nmae={baseline_mae:.3f}')\n",
    "plt.xlabel('Test mae with feature permuted',size=14)\n",
    "plt.ylabel('Feature',size=14)\n",
    "plt.legend()\n",
    "plt.show()"
   ]
  }
 ],
 "metadata": {
  "kernelspec": {
   "display_name": "tf",
   "language": "python",
   "name": "python3"
  },
  "language_info": {
   "codemirror_mode": {
    "name": "ipython",
    "version": 3
   },
   "file_extension": ".py",
   "mimetype": "text/x-python",
   "name": "python",
   "nbconvert_exporter": "python",
   "pygments_lexer": "ipython3",
   "version": "3.9.15"
  },
  "orig_nbformat": 4
 },
 "nbformat": 4,
 "nbformat_minor": 2
}
