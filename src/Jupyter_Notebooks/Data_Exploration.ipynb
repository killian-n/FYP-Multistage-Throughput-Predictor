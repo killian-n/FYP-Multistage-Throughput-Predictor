{
 "cells": [
  {
   "attachments": {},
   "cell_type": "markdown",
   "id": "ed6d6f38-bbb6-4973-b3b5-d0c9d92f7766",
   "metadata": {},
   "source": [
    "# Data Exploration & Visualization"
   ]
  },
  {
   "attachments": {},
   "cell_type": "markdown",
   "id": "8c18fa09-579c-40c8-95e6-ad37a0506fb8",
   "metadata": {},
   "source": [
    "## Importing Libraries"
   ]
  },
  {
   "cell_type": "code",
   "execution_count": null,
   "id": "9ebe9c54-0344-44c2-bec1-5bacfa9d8c44",
   "metadata": {},
   "outputs": [],
   "source": [
    "import pandas as pd\n",
    "import missingno as msno\n",
    "import matplotlib.pyplot as plt\n",
    "import numpy as np"
   ]
  },
  {
   "attachments": {},
   "cell_type": "markdown",
   "id": "65180074-fc98-4123-aac4-227f0ba2a869",
   "metadata": {},
   "source": [
    "## Reading in Data"
   ]
  },
  {
   "cell_type": "code",
   "execution_count": null,
   "id": "8b6e431e-bf71-41c5-aa13-08eaf5a3aeda",
   "metadata": {},
   "outputs": [],
   "source": [
    "DATASETS_FOLDER_PATH = \"C:/Users/Killian/Desktop/FYP-Multistage-Throughput-Predictor/Datasets/Raw/\"\n",
    "raw_data_path = DATASETS_FOLDER_PATH + \"all_4G_data.csv\"\n",
    "\n",
    "raw_data = pd.read_csv(raw_data_path, index_col=None)"
   ]
  },
  {
   "attachments": {},
   "cell_type": "markdown",
   "id": "8fde2705-d629-4629-b1d0-eb253ee6b918",
   "metadata": {},
   "source": [
    "## Formatting Data"
   ]
  },
  {
   "cell_type": "code",
   "execution_count": null,
   "id": "3a33607f-d2e7-4c97-be2c-8d7c9212c698",
   "metadata": {},
   "outputs": [],
   "source": [
    "raw_data = raw_data.replace({\"-\":np.nan})"
   ]
  },
  {
   "cell_type": "code",
   "execution_count": null,
   "id": "82d176c9-0379-44dc-9cd8-d27d67541c0e",
   "metadata": {},
   "outputs": [],
   "source": [
    "raw_data.dtypes"
   ]
  },
  {
   "cell_type": "code",
   "execution_count": null,
   "id": "7c7e56e2-2a2f-4e7b-941f-d53753337362",
   "metadata": {},
   "outputs": [],
   "source": [
    "raw_data[\"Timestamp\"] = pd.to_datetime(raw_data[\"Timestamp\"], format=\"%Y.%m.%d_%H.%M.%S\")"
   ]
  },
  {
   "cell_type": "code",
   "execution_count": null,
   "id": "301cd6d6-baad-444a-b087-b2129552a617",
   "metadata": {},
   "outputs": [],
   "source": [
    "raw_data[[\"RSRQ\", \"SNR\", \"CQI\", \"RSSI\", \"NRxRSRP\", \"NRxRSRQ\", \"ServingCell_Distance\", \"ServingCell_Lat\", \"ServingCell_Lon\"]] = raw_data[[\"RSRQ\", \"SNR\", \"CQI\", \"RSSI\", \"NRxRSRP\", \"NRxRSRQ\", \"ServingCell_Distance\", \"ServingCell_Lat\", \"ServingCell_Lon\"]].astype(float)"
   ]
  },
  {
   "cell_type": "code",
   "execution_count": null,
   "id": "482f4beb-4772-4884-90d0-5f80b0d82a0a",
   "metadata": {},
   "outputs": [],
   "source": [
    "raw_data.dtypes"
   ]
  },
  {
   "attachments": {},
   "cell_type": "markdown",
   "id": "40ccb333",
   "metadata": {},
   "source": [
    "# Dataset Understanding"
   ]
  },
  {
   "attachments": {},
   "cell_type": "markdown",
   "id": "5d943053",
   "metadata": {},
   "source": [
    "While the dataset contains many potentially valuable features it is important to note how the dataset was constructed.\n",
    "Most of the columns were collected directly from the device using the G-NetTrack App for android.\n",
    "The following columns are widely reported on in the G-NetTrack App and thus measurements are available consistently\n",
    "This includes:\n",
    " - Longitude\n",
    " - Latitude\n",
    " - Speed\n",
    " - Operatorname\n",
    " - NetworkMode\n",
    " - RSRP\n",
    " - RSRQ (VERY FEW DEVICES SUPPORT REPORTING THIS VALUE)\n",
    " - SNR\n",
    " - CQI\n",
    " - DL_bitrate\n",
    " - UL_bitrate\n",
    " - State\n",
    " - NRxRSRP (Many missing values)\n",
    " - NRxRSRQ (Many missing values)\n",
    "\n",
    "NRxRSRP and NRxRSRQ may not be subject to missing at random assumption as it is possible that there are no other serving towers nearby when nan is reported."
   ]
  },
  {
   "attachments": {},
   "cell_type": "markdown",
   "id": "9d074b33-b7a3-4ec3-b5b8-dc0916b389cc",
   "metadata": {},
   "source": [
    "## Checking For Missing Values"
   ]
  },
  {
   "cell_type": "code",
   "execution_count": null,
   "id": "ae588efa-8d14-4c89-9757-cacbe583f2c2",
   "metadata": {},
   "outputs": [],
   "source": [
    "msno.bar(raw_data)"
   ]
  },
  {
   "cell_type": "code",
   "execution_count": null,
   "id": "d5a8b3fe-95d7-45b3-85a9-88231137f4dc",
   "metadata": {},
   "outputs": [],
   "source": [
    "msno.matrix(raw_data)"
   ]
  },
  {
   "cell_type": "code",
   "execution_count": null,
   "id": "ad67ed3e-9b57-4d6a-9af3-f71063feb849",
   "metadata": {},
   "outputs": [],
   "source": [
    "rssi_ordered_raw_data = raw_data.copy().sort_values(\"RSSI\")\n",
    "msno.matrix(rssi_ordered_raw_data)"
   ]
  },
  {
   "attachments": {},
   "cell_type": "markdown",
   "id": "1dfba74a",
   "metadata": {},
   "source": [
    "- There seems to be a correlation between missing values for SNR, CQI, RSSI, ServingCell_long, ServingCell_Lat, ServingCell_Distance.\n",
    "- When the above features are missing it is likely that there exists a nearby tower as seen by consistent values for NRxRSRP and NRxRSRQ\n",
    "- It seems that these features stop being reported on the edge of a serving cells range and as such the mobile device will be swapping serving cells."
   ]
  },
  {
   "attachments": {},
   "cell_type": "markdown",
   "id": "6dfe1900",
   "metadata": {},
   "source": [
    "## Examining values when servingcell is possibly changing"
   ]
  },
  {
   "cell_type": "code",
   "execution_count": null,
   "id": "d911f152",
   "metadata": {},
   "outputs": [],
   "source": [
    "# edge_values = raw_data[raw_data[\"RSSI\"].isna()]\n",
    "# mean_dl = round(edge_values[\"DL_bitrate\"].mean(), 2)\n",
    "# var_dl = round(edge_values[\"DL_bitrate\"].var(), 2)\n",
    "# sd_dl = round(edge_values[\"DL_bitrate\"].std(), 2)\n",
    "# print(\"Possible transition phase mean:\",mean_dl)\n",
    "# print(\"Standard dev:\", sd_dl)\n",
    "# print(\"Variance:\", var_dl, \"\\n---------------\\n\")\n",
    "# global_mean = round(raw_data[\"DL_bitrate\"].mean(), 2)\n",
    "# global_var = round(raw_data[\"DL_bitrate\"].var(), 2)\n",
    "# global_std = round(raw_data[\"DL_bitrate\"].std(), 2)\n",
    "# print(\"Global mean:\", global_mean)\n",
    "# print(\"Global std:\", global_std)\n",
    "# print(\"Global variance:\", global_var)\n",
    "\n",
    "# print(edge_values[\"CQI\"].max())\n",
    "\n",
    "raw_data[\"SNR\"].fillna(raw_data[\"SNR\"].min(), inplace=True)\n",
    "print(\"In SNR place\")\n",
    "print(raw_data[\"SNR\"].isnull().sum())\n",
    "print(raw_data[\"SNR\"].min())"
   ]
  },
  {
   "cell_type": "code",
   "execution_count": null,
   "id": "c352691c",
   "metadata": {},
   "outputs": [],
   "source": [
    "mb = raw_data[raw_data[\"movement_type\"]==\"train\"][\"DL_bitrate\"]/1024\n",
    "global_mean = round(mb.mean(), 2)\n",
    "global_std = round(mb.std(), 2)\n",
    "max_valu = round(mb.max(), 2)\n",
    "med = round(mb.median(), 2)\n",
    "print(\"mean\", global_mean)\n",
    "print(\"std\", global_std)\n",
    "print(\"med\", med)\n",
    "print(\"max\", max_valu)\n",
    "print(\"\")\n"
   ]
  },
  {
   "attachments": {},
   "cell_type": "markdown",
   "id": "326bcf50",
   "metadata": {},
   "source": [
    "## Takeaways for Imputation"
   ]
  },
  {
   "attachments": {},
   "cell_type": "markdown",
   "id": "ec4b3eb0",
   "metadata": {},
   "source": [
    "- SNR, CQI, RSSI only missing when servingcell is being changed. These situations should have the minimum (worst quality) value imputed.\n",
    "- Serving cell distance is should have the maximum distance imputed. However this feature itself is rarely reported by the device anyway and should probably be excluded\n",
    "- NRxRSRP and NRxRSRQ are far more likely to be missing when the mobile device has a solid connection to its servingcell. As such possible makes sense to impute based solely on data when RSSI is not NaN"
   ]
  },
  {
   "attachments": {},
   "cell_type": "markdown",
   "id": "a6dd7ada-0815-4057-bb25-927420f7c7e8",
   "metadata": {},
   "source": [
    "## Distribution of Columns"
   ]
  },
  {
   "cell_type": "code",
   "execution_count": null,
   "id": "27d9c82f-5e58-4ace-b9d8-44d79f8403f5",
   "metadata": {},
   "outputs": [],
   "source": [
    "raw_data.hist(figsize=(20,20))"
   ]
  },
  {
   "cell_type": "code",
   "execution_count": null,
   "id": "5e8a9d78",
   "metadata": {},
   "outputs": [],
   "source": [
    "fig, ((ax1,ax2),(ax3,ax4)) = plt.subplots(nrows=2, ncols=2)\n",
    "fig.tight_layout(pad=6.0)\n",
    "axes = [ax1,ax2,ax3,ax4]\n",
    "accum = 0\n",
    "for i in raw_data[\"movement_type\"].unique():\n",
    "    ax = axes[accum]\n",
    "    movement = raw_data[raw_data[\"movement_type\"]==i]\n",
    "    random_trace = movement[\"session\"].sample().to_list()[0]\n",
    "    ax.plot(movement[movement[\"session\"]==random_trace][\"DL_bitrate\"]/1024)\n",
    "    ax.set_ylabel(\"Bitrate (Mbps)\")\n",
    "    ax.set_xlabel(\"Time (seconds)\")\n",
    "    ax.set_title(\"Sample from {}\".format(i.capitalize()))\n",
    "    ax.set_xticks([])\n",
    "    accum+=1 \n",
    "    if accum == 4:\n",
    "        break\n",
    "\n",
    "\n",
    "# train"
   ]
  },
  {
   "cell_type": "code",
   "execution_count": null,
   "id": "abb1e42b-8627-4faf-bf90-d079e0e0c00f",
   "metadata": {},
   "outputs": [],
   "source": [
    "fig, ax = plt.subplots()\n",
    "ax.hist(raw_data[\"DL_bitrate\"]/1024,bins=200, range=(0,100000/1024))\n",
    "ax.set_ylabel(\"Sample Oberservations\")\n",
    "ax.set_xlabel(\"Bitrate (Mbps)\")\n",
    "ax.set_title(\"Histogram of DL_throughput\")"
   ]
  },
  {
   "cell_type": "code",
   "execution_count": null,
   "id": "3351ab92",
   "metadata": {},
   "outputs": [],
   "source": []
  },
  {
   "cell_type": "code",
   "execution_count": null,
   "id": "29a477b1",
   "metadata": {},
   "outputs": [],
   "source": [
    "traces = raw_data.groupby(\"session\")\n",
    "for name, trace in traces:\n",
    "    "
   ]
  },
  {
   "cell_type": "code",
   "execution_count": null,
   "id": "6d29fdec",
   "metadata": {},
   "outputs": [],
   "source": [
    "fig, ax = plt.subplots()\n",
    "ax.hist(raw_data[\"RSRQ\"],bins=50)\n",
    "ax.set_ylabel(\"Sample Oberservations\")\n",
    "ax.set_xlabel(\"RSRQ\")\n",
    "ax.set_title(\"Histogram of RSRQ\")"
   ]
  },
  {
   "cell_type": "code",
   "execution_count": null,
   "id": "a3655fd2",
   "metadata": {},
   "outputs": [],
   "source": [
    "fig, ax = plt.subplots()\n",
    "ax.hist(raw_data[\"NRxRSRP\"],bins=50)\n",
    "ax.set_ylabel(\"Sample Oberservations\")\n",
    "ax.set_xlabel(\"NRxRSRP\")\n",
    "ax.set_title(\"Histogram of NRxRSRP\")"
   ]
  },
  {
   "cell_type": "code",
   "execution_count": null,
   "id": "cb771d58",
   "metadata": {},
   "outputs": [],
   "source": [
    "counts = []\n",
    "groups = raw_data.groupby(\"session\")\n",
    "for name, group in groups:\n",
    "    counts.append(len(group))\n",
    "mean = np.mean(counts)\n",
    "median = np.median(counts)\n",
    "max_length = np.argmax(counts)"
   ]
  },
  {
   "cell_type": "code",
   "execution_count": null,
   "id": "7039bbc6-c47e-4280-8c97-f95a31d00c63",
   "metadata": {},
   "outputs": [],
   "source": [
    "fig, ax = plt.subplots()\n",
    "ax.plot(list(range(135)), counts, )\n",
    "ax.set_ylabel(\"Trace Length in Seconds\")\n",
    "ax.set_xlabel(\"Trace\")\n",
    "ax.set_ylim(0, 14000)\n",
    "ax.axhline(mean, linestyle='--', color='r')\n",
    "y_ticks = ax.get_yticks()\n",
    "accum = 0\n",
    "for i in y_ticks:\n",
    "    if i > mean:\n",
    "        break\n",
    "    accum += 1 \n",
    "y_ticks = list(y_ticks[:accum]) + [mean] + list(y_ticks[accum:])\n",
    "ax.set_yticks(y_ticks)\n",
    "ax.set_title(\"Mean={} Mins, Median={} Mins\".format(round(mean/60, 2),round(median/60, 2)))\n"
   ]
  },
  {
   "cell_type": "code",
   "execution_count": null,
   "id": "373b38d9",
   "metadata": {},
   "outputs": [],
   "source": [
    "max_length"
   ]
  },
  {
   "cell_type": "code",
   "execution_count": null,
   "id": "78fc6982",
   "metadata": {},
   "outputs": [],
   "source": [
    "raw_data[raw_data[\"session\"]==116][\"movement_type\"]"
   ]
  },
  {
   "cell_type": "code",
   "execution_count": null,
   "id": "ed50432a-762d-4926-8b6f-1e73e48088bc",
   "metadata": {},
   "outputs": [],
   "source": [
    "print(raw_data[\"CellID\"].sort_values())"
   ]
  },
  {
   "attachments": {},
   "cell_type": "markdown",
   "id": "98dbc97b-cb13-4572-b826-4f8a8a22a366",
   "metadata": {},
   "source": [
    "## Time Series Analysis"
   ]
  },
  {
   "attachments": {},
   "cell_type": "markdown",
   "id": "a828392c-949f-4548-9e83-260e61381a33",
   "metadata": {},
   "source": [
    "### Static Instances"
   ]
  },
  {
   "cell_type": "code",
   "execution_count": null,
   "id": "c0b734be-fef4-496f-80f3-2d4cbe60afba",
   "metadata": {},
   "outputs": [],
   "source": [
    "static_data = raw_data.copy()[raw_data[\"movement_type\"] == \"static\"]"
   ]
  },
  {
   "cell_type": "code",
   "execution_count": null,
   "id": "0760adcf-d748-4eee-b006-1aa8691c56cf",
   "metadata": {},
   "outputs": [],
   "source": [
    "print(static_data[\"session\"].sort_values())"
   ]
  },
  {
   "attachments": {},
   "cell_type": "markdown",
   "id": "10747329-1fc2-4eae-8e98-0ca48c8fdcab",
   "metadata": {},
   "source": [
    "Graph for just one session"
   ]
  },
  {
   "cell_type": "code",
   "execution_count": null,
   "id": "38ac14c6-cbf4-4e0a-8a95-d0266ac70f09",
   "metadata": {},
   "outputs": [],
   "source": [
    "x_points = static_data[(static_data[\"session\"]==100)][\"Timestamp\"]\n",
    "y_points = static_data[(static_data[\"session\"]==100)][\"DL_bitrate\"]\n",
    "fig, ax = plt.subplots()\n",
    "ax.scatter(x_points, y_points)\n",
    "ax.set_xlabel(\"Time\")\n",
    "ax.set_ylabel(\"Download Throughput in kbps\")\n",
    "plt.show()"
   ]
  },
  {
   "cell_type": "code",
   "execution_count": null,
   "id": "4301289c-76e1-46e0-8c79-dc2d356b1c9d",
   "metadata": {},
   "outputs": [],
   "source": [
    "for i in range(100,115):\n",
    "    x_points = static_data[(static_data[\"session\"]==i)][\"Timestamp\"]\n",
    "    y_points = static_data[(static_data[\"session\"]==i)][\"DL_bitrate\"]\n",
    "    fig, ax = plt.subplots()\n",
    "    ax.scatter(x_points, y_points)\n",
    "    ax.set_xlabel(\"Time\")\n",
    "    ax.set_ylabel(\"Download Throughput in bps\")\n",
    "    ax.set_title(str(i))\n",
    "    plt.show()"
   ]
  },
  {
   "attachments": {},
   "cell_type": "markdown",
   "id": "4239679d-0094-41ae-bbe8-ce9e753bbeff",
   "metadata": {},
   "source": [
    "### Some Observations\n",
    "- There is a large variance the the download speeds between sessions.\n",
    "- Assuming the workload was the same in each instance, this could be due to session taking places in different places, or a different times (e.g. peak user times might cause slower LTE speeds for 1 user)\n",
    "- There is no clear overall pattern between sessions."
   ]
  },
  {
   "attachments": {},
   "cell_type": "markdown",
   "id": "d571cc74-2a5b-43d5-86a4-ee9150ec748b",
   "metadata": {},
   "source": [
    "## Attempting to Identify trends Associated with Particular Cell Towers or Locations"
   ]
  },
  {
   "cell_type": "code",
   "execution_count": null,
   "id": "c4d2dd8e-e4c0-4a5e-b8a0-17b5181dc58a",
   "metadata": {},
   "outputs": [],
   "source": [
    "cell_tower_groups = raw_data.copy().groupby([\"ServingCell_Lat\", \"ServingCell_Lon\"])"
   ]
  },
  {
   "cell_type": "code",
   "execution_count": null,
   "id": "fec0d153-a6c7-47e5-b0e2-8446e7251ea7",
   "metadata": {},
   "outputs": [],
   "source": [
    "print(len(cell_tower_groups))"
   ]
  },
  {
   "cell_type": "code",
   "execution_count": null,
   "id": "d1da634b-894e-4d3f-a6b1-fbc6f15dd52b",
   "metadata": {},
   "outputs": [],
   "source": [
    "tower_grouped_data = pd.DataFrame()\n",
    "i = 0\n",
    "for name, group in cell_tower_groups:\n",
    "    group[\"cell_tower\"] = i\n",
    "    tower_grouped_data = pd.concat([tower_grouped_data, group])"
   ]
  },
  {
   "cell_type": "code",
   "execution_count": null,
   "id": "76c13d3d-5edf-4460-93c6-4dab9b6a0c9f",
   "metadata": {},
   "outputs": [],
   "source": [
    "print(len(pd.unique(tower_grouped_data[\"session\"].sort_values())))"
   ]
  },
  {
   "cell_type": "code",
   "execution_count": null,
   "id": "562f3d1f-c333-4903-954a-f3d3b7747ae0",
   "metadata": {},
   "outputs": [],
   "source": [
    "for i in range(132):\n",
    "    tower = tower_grouped_data[(tower_grouped_data[\"cell_tower\"]==i)]\n",
    "    for session in pd.unique(tower[\"session\"].sort_values()):\n",
    "        x_points = tower[(tower[\"session\"]==session)][\"Timestamp\"]\n",
    "        y_points = tower[(tower[\"session\"]==session)][\"DL_bitrate\"]\n",
    "        fig, ax = plt.subplots()\n",
    "        ax.scatter(x_points, y_points)\n",
    "        ax.set_xlabel(\"Time\")\n",
    "        ax.set_ylabel(\"Download Throughput in bps\")\n",
    "        ax.set_title(y_points.sum())\n",
    "        plt.show()\n",
    "    break"
   ]
  },
  {
   "attachments": {},
   "cell_type": "markdown",
   "id": "ded87815-cba4-449b-a02e-0d33a5ad9c96",
   "metadata": {},
   "source": [
    "## Feature Correlation Analysis"
   ]
  },
  {
   "cell_type": "code",
   "execution_count": null,
   "id": "a93ec0ae",
   "metadata": {},
   "outputs": [],
   "source": [
    "import configparser\n",
    "import sys\n",
    "import tensorflow as tf\n",
    "import pandas as pd\n",
    "from keras.callbacks import ModelCheckpoint, TensorBoard\n",
    "\n",
    "config = configparser.ConfigParser()\n",
    "config.read('C:\\\\Users\\\\Killian\\Desktop\\\\FYP-Multistage-Throughput-Predictor\\\\.env')\n",
    "print(config.sections())\n",
    "\n",
    "module_path = config['global']['MODULE_PATH']\n",
    "project_path = config['global']['PROJECT_PATH']\n",
    "sys.path.append(module_path)\n",
    "\n",
    "from models.simple_LSTM import SimpleLSTM"
   ]
  }
 ],
 "metadata": {
  "kernelspec": {
   "display_name": "tf",
   "language": "python",
   "name": "python3"
  },
  "language_info": {
   "codemirror_mode": {
    "name": "ipython",
    "version": 3
   },
   "file_extension": ".py",
   "mimetype": "text/x-python",
   "name": "python",
   "nbconvert_exporter": "python",
   "pygments_lexer": "ipython3",
   "version": "3.9.15"
  },
  "vscode": {
   "interpreter": {
    "hash": "a5492aaff6d4559dbcfc19ba64ea7a214011c940d9757f1a2b56edb0be842c7d"
   }
  }
 },
 "nbformat": 4,
 "nbformat_minor": 5
}
