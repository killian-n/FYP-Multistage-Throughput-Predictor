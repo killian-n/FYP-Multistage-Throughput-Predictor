{
 "cells": [
  {
   "cell_type": "code",
   "execution_count": null,
   "metadata": {},
   "outputs": [],
   "source": [
    "import pandas as pd\n",
    "import missingno as msno\n",
    "import matplotlib.pyplot as plt\n",
    "import numpy as np"
   ]
  },
  {
   "attachments": {},
   "cell_type": "markdown",
   "metadata": {},
   "source": [
    "## Reading In Data"
   ]
  },
  {
   "cell_type": "code",
   "execution_count": null,
   "metadata": {},
   "outputs": [],
   "source": [
    "DATASETS_FOLDER_PATH = \"C:/Users/Killian/Desktop/FYP-Multistage-Throughput-Predictor/Datasets/Raw/\"\n",
    "raw_data_path = DATASETS_FOLDER_PATH + \"all_4G_data.csv\"\n",
    "\n",
    "raw_data = pd.read_csv(raw_data_path, index_col=None)"
   ]
  },
  {
   "attachments": {},
   "cell_type": "markdown",
   "metadata": {},
   "source": [
    "## Formatting Data"
   ]
  },
  {
   "cell_type": "code",
   "execution_count": null,
   "metadata": {},
   "outputs": [],
   "source": [
    "raw_data = raw_data.replace({\"-\":np.nan})"
   ]
  },
  {
   "cell_type": "code",
   "execution_count": null,
   "metadata": {},
   "outputs": [],
   "source": [
    "raw_data[\"Timestamp\"] = pd.to_datetime(raw_data[\"Timestamp\"], format=\"%Y.%m.%d_%H.%M.%S\")\n",
    "raw_data[[\"RSRQ\", \"SNR\", \"CQI\", \"RSSI\", \"NRxRSRP\", \"NRxRSRQ\", \"ServingCell_Distance\", \"ServingCell_Lat\", \"ServingCell_Lon\"]] = raw_data[[\"RSRQ\", \"SNR\", \"CQI\", \"RSSI\", \"NRxRSRP\", \"NRxRSRQ\", \"ServingCell_Distance\", \"ServingCell_Lat\", \"ServingCell_Lon\"]].astype(float)"
   ]
  },
  {
   "cell_type": "code",
   "execution_count": null,
   "metadata": {},
   "outputs": [],
   "source": [
    "raw_data.dtypes"
   ]
  },
  {
   "attachments": {},
   "cell_type": "markdown",
   "metadata": {},
   "source": [
    "## Feature Explaination"
   ]
  },
  {
   "attachments": {},
   "cell_type": "markdown",
   "metadata": {},
   "source": [
    "While the dataset contains many potentially valuable features it is important to note how the dataset was constructed.\n",
    "Most of the columns were collected directly from the device using the G-NetTrack App for android.\n",
    "The following columns are widely reported on in the G-NetTrack App and thus measurements are available consistently\n",
    "This includes:\n",
    " - Longitude\n",
    " - Latitude\n",
    " - Speed\n",
    " - Operatorname\n",
    " - NetworkMode\n",
    " - RSRP\n",
    " - RSRQ\n",
    " - SNR\n",
    " - CQI\n",
    " - DL_bitrate\n",
    " - UL_bitrate\n",
    " - State\n",
    " - NRxRSRP (Many missing values)\n",
    " - NRxRSRQ (Many missing values)\n",
    "\n",
    "NRxRSRP and NRxRSRQ may not be subject to missing at random assumption as it is possible that there are no other serving towers nearby when nan is reported."
   ]
  },
  {
   "attachments": {},
   "cell_type": "markdown",
   "metadata": {},
   "source": [
    "## Exploring Missing Values"
   ]
  },
  {
   "cell_type": "code",
   "execution_count": null,
   "metadata": {},
   "outputs": [],
   "source": [
    "msno.bar(raw_data.drop(columns=[\"movement_type\", \"session\"]))"
   ]
  },
  {
   "cell_type": "code",
   "execution_count": null,
   "metadata": {},
   "outputs": [],
   "source": [
    "nan_prop = raw_data.isna().mean()\n",
    "print(nan_prop)"
   ]
  },
  {
   "cell_type": "code",
   "execution_count": null,
   "metadata": {},
   "outputs": [],
   "source": [
    "rssi_ordered_raw_data = raw_data.copy().sort_values(\"RSSI\")\n",
    "msno.matrix(rssi_ordered_raw_data.drop(columns=[\"session\", \"movement_type\"]))"
   ]
  },
  {
   "cell_type": "code",
   "execution_count": null,
   "metadata": {},
   "outputs": [],
   "source": [
    "msno.heatmap(raw_data.drop(columns=[\"session\", \"movement_type\"]))"
   ]
  },
  {
   "attachments": {},
   "cell_type": "markdown",
   "metadata": {},
   "source": [
    "## Distribution of Features"
   ]
  },
  {
   "cell_type": "code",
   "execution_count": null,
   "metadata": {},
   "outputs": [],
   "source": [
    "raw_data.hist(figsize=(20,20))"
   ]
  },
  {
   "attachments": {},
   "cell_type": "markdown",
   "metadata": {},
   "source": [
    "## Checking for Normality"
   ]
  },
  {
   "cell_type": "code",
   "execution_count": null,
   "metadata": {},
   "outputs": [],
   "source": [
    "from scipy.stats import shapiro\n",
    "from statsmodels.graphics.gofplots import qqplot"
   ]
  },
  {
   "cell_type": "code",
   "execution_count": null,
   "metadata": {},
   "outputs": [],
   "source": [
    "def check_for_normality(dataframe=pd.DataFrame()):\n",
    "    numeric_features = [\"SNR\", \"CQI\", \"RSSI\", \"NRxRSRP\", \\\n",
    "    \"NRxRSRQ\", \"RSRQ\", \"RSRP\", \"DL_bitrate\", \"UL_bitrate\"]\n",
    "    for feature in numeric_features:\n",
    "        print(\"Column\", feature)\n",
    "        stat, p = shapiro(dataframe[feature].to_numpy())\n",
    "        print('Statistics=%.3f, p=%.3f' % (stat, p))\n",
    "        if p > 0.05:\n",
    "            print('{} looks Gaussian (fail to reject H0)'.format(feature), \"\\n===============\\n\")\n",
    "        else:\n",
    "            print('{} does not look Gaussian (reject H0)'.format(feature), \"\\n===============\\n\")\n"
   ]
  },
  {
   "cell_type": "code",
   "execution_count": null,
   "metadata": {},
   "outputs": [],
   "source": [
    "check_for_normality(raw_data)"
   ]
  },
  {
   "attachments": {},
   "cell_type": "markdown",
   "metadata": {},
   "source": [
    "NaN values cause this function not to work properly therefore we must impute first"
   ]
  },
  {
   "attachments": {},
   "cell_type": "markdown",
   "metadata": {},
   "source": [
    "## Checking for Outliers"
   ]
  },
  {
   "cell_type": "code",
   "execution_count": null,
   "metadata": {},
   "outputs": [],
   "source": [
    "def check_for_outliers(dataframe=pd.DataFrame()):\n",
    "    numeric_features = [\"SNR\", \"CQI\", \"RSSI\", \"NRxRSRP\", \\\n",
    "    \"NRxRSRQ\", \"RSRQ\", \"RSRP\", \"DL_bitrate\", \"UL_bitrate\"]\n",
    "    for feature in numeric_features:\n",
    "        print(\"Column\", feature)\n",
    "        q1 = dataframe[feature].quantile(0.25)\n",
    "        q3 = dataframe[feature].quantile(0.75)\n",
    "        iqr = q3 - q1\n",
    "        df_outliers = dataframe[(dataframe[feature] < q1 - 1.5*iqr) | (dataframe[feature] > q3 + 1.5*iqr)][feature]\n",
    "        print(\"No of outliers:\", df_outliers.size)\n",
    "        print(df_outliers, \"\\n===============\\n\\n\")\n"
   ]
  },
  {
   "attachments": {},
   "cell_type": "markdown",
   "metadata": {},
   "source": [
    "## Imputing the Missing Values"
   ]
  },
  {
   "cell_type": "code",
   "execution_count": null,
   "metadata": {},
   "outputs": [],
   "source": [
    "from sklearn.preprocessing import MinMaxScaler\n",
    "from sklearn.impute import KNNImputer"
   ]
  },
  {
   "cell_type": "code",
   "execution_count": null,
   "metadata": {},
   "outputs": [],
   "source": [
    "complete_data = pd.read_csv(\"C:\\\\Users\\\\Killian\\Desktop\\\\FYP-Multistage-Throughput-Predictor\\\\Datasets\\\\unaveraged_processed_network_data.csv\", index_col=None)"
   ]
  },
  {
   "attachments": {},
   "cell_type": "markdown",
   "metadata": {},
   "source": [
    "## Checking for Normality in Imputed Data"
   ]
  },
  {
   "cell_type": "code",
   "execution_count": null,
   "metadata": {},
   "outputs": [],
   "source": [
    "check_for_normality(complete_data)"
   ]
  },
  {
   "attachments": {},
   "cell_type": "markdown",
   "metadata": {},
   "source": [
    "## Checking for Outliers in Imputed Data"
   ]
  },
  {
   "cell_type": "code",
   "execution_count": null,
   "metadata": {},
   "outputs": [],
   "source": [
    "len(complete_data)"
   ]
  },
  {
   "cell_type": "code",
   "execution_count": null,
   "metadata": {},
   "outputs": [],
   "source": [
    "check_for_outliers(complete_data)"
   ]
  },
  {
   "cell_type": "code",
   "execution_count": null,
   "metadata": {},
   "outputs": [],
   "source": []
  }
 ],
 "metadata": {
  "kernelspec": {
   "display_name": "tf",
   "language": "python",
   "name": "python3"
  },
  "language_info": {
   "codemirror_mode": {
    "name": "ipython",
    "version": 3
   },
   "file_extension": ".py",
   "mimetype": "text/x-python",
   "name": "python",
   "nbconvert_exporter": "python",
   "pygments_lexer": "ipython3",
   "version": "3.9.15"
  },
  "orig_nbformat": 4
 },
 "nbformat": 4,
 "nbformat_minor": 2
}
